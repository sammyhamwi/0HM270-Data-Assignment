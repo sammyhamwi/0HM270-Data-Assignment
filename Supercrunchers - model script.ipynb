{
 "cells": [
  {
   "cell_type": "code",
   "execution_count": 1,
   "id": "9858214c",
   "metadata": {
    "id": "9858214c"
   },
   "outputs": [],
   "source": [
    "#importing all packages needed, mostly from scikit learn\n",
    "import pandas as pd\n",
    "import numpy as np\n",
    "import seaborn as sns\n",
    "import matplotlib.pyplot as plt\n",
    "\n",
    "from sklearn.model_selection import train_test_split\n",
    "from sklearn.model_selection import GridSearchCV\n",
    "\n",
    "from sklearn.tree import DecisionTreeClassifier\n",
    "from sklearn.ensemble import RandomForestClassifier\n",
    "from sklearn.linear_model import LogisticRegression\n",
    "\n",
    "from sklearn.metrics import classification_report, accuracy_score, precision_score, recall_score, accuracy_score, roc_curve, auc, precision_recall_curve, average_precision_score \n",
    "\n",
    "from sklearn.preprocessing import PolynomialFeatures\n",
    "\n",
    "\n",
    "\n"
   ]
  },
  {
   "cell_type": "code",
   "execution_count": 2,
   "id": "9df5b0cd",
   "metadata": {
    "id": "9df5b0cd"
   },
   "outputs": [],
   "source": [
    "#load dataset\n",
    "filename = '/filtered_rechtspraak_en.csv'\n",
    "law_dataset = pd.read_csv(filename)\n",
    "\n",
    "#add age variable\n",
    "law_dataset['age'] = 2024 - law_dataset['geboren']"
   ]
  },
  {
   "cell_type": "code",
   "execution_count": 4,
   "id": "3d72ba31",
   "metadata": {
    "colab": {
     "base_uri": "https://localhost:8080/"
    },
    "id": "3d72ba31",
    "outputId": "d2088e09-976e-488d-e8bd-936957a829e2"
   },
   "outputs": [
    {
     "name": "stdout",
     "output_type": "stream",
     "text": [
      "                  id       geboren  commasinjurors   aantalzaken  \\\n",
      "count   15579.000000  15579.000000    14076.000000  15579.000000   \n",
      "mean    58869.691765   1989.609474        1.868713      1.610566   \n",
      "std     42490.740716    173.679089        0.489563      5.367926   \n",
      "min        13.000000      0.000000        0.000000      0.000000   \n",
      "25%     23249.000000   1972.000000        2.000000      0.000000   \n",
      "50%     49902.000000   1985.000000        2.000000      0.000000   \n",
      "75%     89587.000000   1995.000000        2.000000      3.000000   \n",
      "max    141872.000000   9303.000000        7.000000    435.000000   \n",
      "\n",
      "          is_guilty  plural_court  jailsentence           age  \n",
      "count  15579.000000  15579.000000  15579.000000  15579.000000  \n",
      "mean       0.743308      0.953656      0.755183     34.390526  \n",
      "std        0.436822      0.210237      0.429992    173.679089  \n",
      "min        0.000000      0.000000      0.000000  -7279.000000  \n",
      "25%        0.000000      1.000000      1.000000     29.000000  \n",
      "50%        1.000000      1.000000      1.000000     39.000000  \n",
      "75%        1.000000      1.000000      1.000000     52.000000  \n",
      "max        1.000000      1.000000      1.000000   2024.000000  \n"
     ]
    }
   ],
   "source": [
    "#get a preliminary idea of the dataset --> TABLE 1 IN THE REPORT\n",
    "sum_table = law_dataset.describe()\n",
    "print(sum_table)"
   ]
  },
  {
   "cell_type": "code",
   "execution_count": 5,
   "id": "0d0287e8",
   "metadata": {
    "colab": {
     "base_uri": "https://localhost:8080/",
     "height": 539
    },
    "id": "0d0287e8",
    "outputId": "769ec37b-bae8-496f-979e-a60ca2a35bd9"
   },
   "outputs": [
    {
     "data": {
      "text/html": [
       "<div>\n",
       "<style scoped>\n",
       "    .dataframe tbody tr th:only-of-type {\n",
       "        vertical-align: middle;\n",
       "    }\n",
       "\n",
       "    .dataframe tbody tr th {\n",
       "        vertical-align: top;\n",
       "    }\n",
       "\n",
       "    .dataframe thead th {\n",
       "        text-align: right;\n",
       "    }\n",
       "</style>\n",
       "<table border=\"1\" class=\"dataframe\">\n",
       "  <thead>\n",
       "    <tr style=\"text-align: right;\">\n",
       "      <th></th>\n",
       "      <th>id</th>\n",
       "      <th>urlshort</th>\n",
       "      <th>verdachte</th>\n",
       "      <th>geboren</th>\n",
       "      <th>beslissing</th>\n",
       "      <th>strafmaat</th>\n",
       "      <th>zittingsplaats</th>\n",
       "      <th>namenvandejuryleden</th>\n",
       "      <th>commasinjurors</th>\n",
       "      <th>aantalzaken</th>\n",
       "      <th>is_guilty</th>\n",
       "      <th>plural_court</th>\n",
       "      <th>jailsentence</th>\n",
       "      <th>verdachte_en</th>\n",
       "      <th>beslissing_en</th>\n",
       "      <th>strafmaat_en</th>\n",
       "      <th>age</th>\n",
       "    </tr>\n",
       "  </thead>\n",
       "  <tbody>\n",
       "    <tr>\n",
       "      <th>0</th>\n",
       "      <td>13</td>\n",
       "      <td>RBMNE:2024:2414&amp;showbutton=true</td>\n",
       "      <td>geboren op [1987] te [geboorteplaats] , wonend...</td>\n",
       "      <td>1987</td>\n",
       "      <td>De rechtbank: Bewezenverklaring - verklaart he...</td>\n",
       "      <td>4 (vier) jaar/ proeftijd van 5 (vijf) jaar vas...</td>\n",
       "      <td>Lelystad</td>\n",
       "      <td>J.W.B. Snijders Blok, R.P.P. Hoekstra, A.M. Loots</td>\n",
       "      <td>2.0</td>\n",
       "      <td>3</td>\n",
       "      <td>1</td>\n",
       "      <td>1</td>\n",
       "      <td>1</td>\n",
       "      <td>born [1987] at [birthplace] , residing at [add...</td>\n",
       "      <td>The court: Provenance - declares that the defe...</td>\n",
       "      <td>4 (four) year/ probationary period of 5 (five)...</td>\n",
       "      <td>37</td>\n",
       "    </tr>\n",
       "    <tr>\n",
       "      <th>1</th>\n",
       "      <td>16</td>\n",
       "      <td>RBMNE:2024:2381&amp;showbutton=true</td>\n",
       "      <td>geboren op [geboortedatum 1] 1979 te [geboorte...</td>\n",
       "      <td>1979</td>\n",
       "      <td>De rechtbank: Vrijspraak  verklaart het onder...</td>\n",
       "      <td>2, 3 en 5/ 360 dagen/ 87 dagen/ Bijlage I: de ...</td>\n",
       "      <td>Utrecht</td>\n",
       "      <td>H.A. Brouwer, J. Edgar, L.C. Michon</td>\n",
       "      <td>2.0</td>\n",
       "      <td>5</td>\n",
       "      <td>1</td>\n",
       "      <td>1</td>\n",
       "      <td>1</td>\n",
       "      <td>born on [birth date 1] 1979 at [birthplace 1] ...</td>\n",
       "      <td>The court: An acquittal shall not prove the ac...</td>\n",
       "      <td>2, 3 and 5/ 360 days/ 87 days/ Annex I: The ch...</td>\n",
       "      <td>45</td>\n",
       "    </tr>\n",
       "    <tr>\n",
       "      <th>2</th>\n",
       "      <td>17</td>\n",
       "      <td>RBZWB:2024:2543&amp;showbutton=true</td>\n",
       "      <td>geboren op [geboortedag 1] 1989 te [geboortepl...</td>\n",
       "      <td>1989</td>\n",
       "      <td>De rechtbank: Bewezenverklaring - verklaart he...</td>\n",
       "      <td>een gevangenisstraf van zeven maanden, waarvan...</td>\n",
       "      <td>Breda</td>\n",
       "      <td>K. Verschueren, W.A.H.A. Schnitzler-Strijbos, ...</td>\n",
       "      <td>2.0</td>\n",
       "      <td>4</td>\n",
       "      <td>1</td>\n",
       "      <td>1</td>\n",
       "      <td>1</td>\n",
       "      <td>born on [birthday 1] 1989 at [birthplace 1] re...</td>\n",
       "      <td>The court: Prove - declares the evidence indic...</td>\n",
       "      <td>a sentence of seven months, of which three mon...</td>\n",
       "      <td>35</td>\n",
       "    </tr>\n",
       "    <tr>\n",
       "      <th>3</th>\n",
       "      <td>18</td>\n",
       "      <td>RBZWB:2024:2544&amp;showbutton=true</td>\n",
       "      <td>geboren op [geboortedag] 1987, te [geboortepla...</td>\n",
       "      <td>1987</td>\n",
       "      <td>De rechtbank: Vrijspraak: - spreekt verdachte ...</td>\n",
       "      <td>betaling van een geldboete van € 1.500,=/ verv...</td>\n",
       "      <td>Breda</td>\n",
       "      <td>M.E.I. Beudeker, M. van de Wetering, D.S.G. Fr...</td>\n",
       "      <td>2.0</td>\n",
       "      <td>4</td>\n",
       "      <td>1</td>\n",
       "      <td>1</td>\n",
       "      <td>1</td>\n",
       "      <td>born on [birthday] 1987, at [birthplace] , wit...</td>\n",
       "      <td>The court: Acquittal: - exonerates suspect fro...</td>\n",
       "      <td>payment of a fine of €1,500,=/ replacement det...</td>\n",
       "      <td>37</td>\n",
       "    </tr>\n",
       "    <tr>\n",
       "      <th>4</th>\n",
       "      <td>20</td>\n",
       "      <td>RBZWB:2024:2547&amp;showbutton=true</td>\n",
       "      <td>, geboren op [geboortedag] 1980, te [geboortep...</td>\n",
       "      <td>1980</td>\n",
       "      <td>De rechtbank: Vrijspraak - spreekt verdachte v...</td>\n",
       "      <td>spreekt verdachte vrij/ [benadeelde 3] , [bena...</td>\n",
       "      <td>Breda</td>\n",
       "      <td>D.L.J. Martens, M.E.I. Beudeker, F.L. Donders</td>\n",
       "      <td>2.0</td>\n",
       "      <td>0</td>\n",
       "      <td>0</td>\n",
       "      <td>1</td>\n",
       "      <td>0</td>\n",
       "      <td>, born [birthday] 1980, born [birthplace] , re...</td>\n",
       "      <td>The court: Acquittal - exonerates suspect from...</td>\n",
       "      <td>exonerates suspect/ [disadvantaged 3] , [disad...</td>\n",
       "      <td>44</td>\n",
       "    </tr>\n",
       "  </tbody>\n",
       "</table>\n",
       "</div>"
      ],
      "text/plain": [
       "   id                         urlshort  \\\n",
       "0  13  RBMNE:2024:2414&showbutton=true   \n",
       "1  16  RBMNE:2024:2381&showbutton=true   \n",
       "2  17  RBZWB:2024:2543&showbutton=true   \n",
       "3  18  RBZWB:2024:2544&showbutton=true   \n",
       "4  20  RBZWB:2024:2547&showbutton=true   \n",
       "\n",
       "                                           verdachte  geboren  \\\n",
       "0  geboren op [1987] te [geboorteplaats] , wonend...     1987   \n",
       "1  geboren op [geboortedatum 1] 1979 te [geboorte...     1979   \n",
       "2  geboren op [geboortedag 1] 1989 te [geboortepl...     1989   \n",
       "3  geboren op [geboortedag] 1987, te [geboortepla...     1987   \n",
       "4  , geboren op [geboortedag] 1980, te [geboortep...     1980   \n",
       "\n",
       "                                          beslissing  \\\n",
       "0  De rechtbank: Bewezenverklaring - verklaart he...   \n",
       "1  De rechtbank: Vrijspraak  verklaart het onder...   \n",
       "2  De rechtbank: Bewezenverklaring - verklaart he...   \n",
       "3  De rechtbank: Vrijspraak: - spreekt verdachte ...   \n",
       "4  De rechtbank: Vrijspraak - spreekt verdachte v...   \n",
       "\n",
       "                                           strafmaat zittingsplaats  \\\n",
       "0  4 (vier) jaar/ proeftijd van 5 (vijf) jaar vas...       Lelystad   \n",
       "1  2, 3 en 5/ 360 dagen/ 87 dagen/ Bijlage I: de ...        Utrecht   \n",
       "2  een gevangenisstraf van zeven maanden, waarvan...          Breda   \n",
       "3  betaling van een geldboete van € 1.500,=/ verv...          Breda   \n",
       "4  spreekt verdachte vrij/ [benadeelde 3] , [bena...          Breda   \n",
       "\n",
       "                                 namenvandejuryleden  commasinjurors  \\\n",
       "0  J.W.B. Snijders Blok, R.P.P. Hoekstra, A.M. Loots             2.0   \n",
       "1                H.A. Brouwer, J. Edgar, L.C. Michon             2.0   \n",
       "2  K. Verschueren, W.A.H.A. Schnitzler-Strijbos, ...             2.0   \n",
       "3  M.E.I. Beudeker, M. van de Wetering, D.S.G. Fr...             2.0   \n",
       "4      D.L.J. Martens, M.E.I. Beudeker, F.L. Donders             2.0   \n",
       "\n",
       "   aantalzaken  is_guilty  plural_court  jailsentence  \\\n",
       "0            3          1             1             1   \n",
       "1            5          1             1             1   \n",
       "2            4          1             1             1   \n",
       "3            4          1             1             1   \n",
       "4            0          0             1             0   \n",
       "\n",
       "                                        verdachte_en  \\\n",
       "0  born [1987] at [birthplace] , residing at [add...   \n",
       "1  born on [birth date 1] 1979 at [birthplace 1] ...   \n",
       "2  born on [birthday 1] 1989 at [birthplace 1] re...   \n",
       "3  born on [birthday] 1987, at [birthplace] , wit...   \n",
       "4  , born [birthday] 1980, born [birthplace] , re...   \n",
       "\n",
       "                                       beslissing_en  \\\n",
       "0  The court: Provenance - declares that the defe...   \n",
       "1  The court: An acquittal shall not prove the ac...   \n",
       "2  The court: Prove - declares the evidence indic...   \n",
       "3  The court: Acquittal: - exonerates suspect fro...   \n",
       "4  The court: Acquittal - exonerates suspect from...   \n",
       "\n",
       "                                        strafmaat_en  age  \n",
       "0  4 (four) year/ probationary period of 5 (five)...   37  \n",
       "1  2, 3 and 5/ 360 days/ 87 days/ Annex I: The ch...   45  \n",
       "2  a sentence of seven months, of which three mon...   35  \n",
       "3  payment of a fine of €1,500,=/ replacement det...   37  \n",
       "4  exonerates suspect/ [disadvantaged 3] , [disad...   44  "
      ]
     },
     "execution_count": 5,
     "metadata": {},
     "output_type": "execute_result"
    }
   ],
   "source": [
    "law_dataset.head()"
   ]
  },
  {
   "cell_type": "code",
   "execution_count": 6,
   "id": "f5490bad",
   "metadata": {
    "colab": {
     "base_uri": "https://localhost:8080/",
     "height": 178
    },
    "id": "f5490bad",
    "outputId": "3588408b-610d-4e15-e7d4-f872d7f2dc43"
   },
   "outputs": [
    {
     "data": {
      "text/plain": [
       "1    11580\n",
       "0     3999\n",
       "Name: is_guilty, dtype: int64"
      ]
     },
     "execution_count": 6,
     "metadata": {},
     "output_type": "execute_result"
    }
   ],
   "source": [
    "#see distribution of is_guilty variable in the dataset\n",
    "law_dataset['is_guilty'].value_counts()"
   ]
  },
  {
   "cell_type": "code",
   "execution_count": 7,
   "id": "3386195c",
   "metadata": {
    "id": "3386195c"
   },
   "outputs": [],
   "source": [
    "#remove unneccesary columns\n",
    "law_data_clean = law_dataset.drop(columns = ['id', 'urlshort', 'verdachte', 'geboren', 'beslissing', 'strafmaat', 'namenvandejuryleden', 'commasinjurors', 'verdachte_en', 'beslissing_en', 'strafmaat_en'])"
   ]
  },
  {
   "cell_type": "code",
   "execution_count": 8,
   "id": "8598d7f1",
   "metadata": {
    "id": "8598d7f1"
   },
   "outputs": [],
   "source": [
    "#rename columns to English terms\n",
    "law_data_clean = law_data_clean.rename(columns = {\"aantalzaken\": \"amount_of_cases\", \"zittingsplaats\": \"courtcity\"})"
   ]
  },
  {
   "cell_type": "code",
   "execution_count": 9,
   "id": "0c3692da",
   "metadata": {
    "colab": {
     "base_uri": "https://localhost:8080/",
     "height": 272
    },
    "id": "0c3692da",
    "outputId": "7981f326-3e9f-4a23-a88c-8b7525989319"
   },
   "outputs": [
    {
     "data": {
      "text/plain": [
       "courtcity          14961\n",
       "amount_of_cases    14961\n",
       "is_guilty          14961\n",
       "plural_court       14961\n",
       "jailsentence       14961\n",
       "age                14961\n",
       "dtype: int64"
      ]
     },
     "execution_count": 9,
     "metadata": {},
     "output_type": "execute_result"
    }
   ],
   "source": [
    "#remove rows with ages below 18 and above 100, to keep only adults and remove infeasible ages\n",
    "law_data_clean = law_data_clean[law_data_clean['age'].between(18,100)]\n",
    "law_data_clean.count()\n",
    "#15.579 - 14.961 = 618 rows dropped"
   ]
  },
  {
   "cell_type": "code",
   "execution_count": 10,
   "id": "73fdba91",
   "metadata": {
    "colab": {
     "base_uri": "https://localhost:8080/",
     "height": 335
    },
    "id": "73fdba91",
    "outputId": "37fd0520-38e4-474b-9307-0d52e0fc286c"
   },
   "outputs": [
    {
     "data": {
      "text/plain": [
       "count    14961.000000\n",
       "mean        41.817325\n",
       "std         14.890347\n",
       "min         18.000000\n",
       "25%         30.000000\n",
       "50%         40.000000\n",
       "75%         52.000000\n",
       "max         97.000000\n",
       "Name: age, dtype: float64"
      ]
     },
     "execution_count": 10,
     "metadata": {},
     "output_type": "execute_result"
    }
   ],
   "source": [
    "#check distribution of age variable --> PART OF TABLE 2 IN THE REPORT\n",
    "law_data_clean['age'].describe()"
   ]
  },
  {
   "cell_type": "code",
   "execution_count": 11,
   "id": "5752c6f0",
   "metadata": {
    "colab": {
     "base_uri": "https://localhost:8080/",
     "height": 512
    },
    "id": "5752c6f0",
    "outputId": "9b1fe54d-34c2-47fe-a654-c7e299da08d5"
   },
   "outputs": [
    {
     "data": {
      "image/png": "[encoded data removed]",
      "text/plain": [
       "<Figure size 500x500 with 1 Axes>"
      ]
     },
     "metadata": {},
     "output_type": "display_data"
    }
   ],
   "source": [
    "#plot the age distribution in the dataset --> FIGURE 2 IN THE REPORT\n",
    "plot = sns.displot(law_data_clean, x=\"amount_of_cases\", binwidth=5)\n",
    "plot.fig.suptitle('Amount of cases distribution in the dataset before removing outliers')\n",
    "\n",
    "plot.savefig('amount_cases_distribution_before_outliers.png')\n"
   ]
  },
  {
   "cell_type": "code",
   "execution_count": 12,
   "id": "10474077",
   "metadata": {
    "colab": {
     "base_uri": "https://localhost:8080/"
    },
    "id": "10474077",
    "outputId": "ae201715-357e-4d22-dd7b-f223635a16fb"
   },
   "outputs": [
    {
     "name": "stdout",
     "output_type": "stream",
     "text": [
      "250\n",
      "0\n"
     ]
    }
   ],
   "source": [
    "#remove outliers from the amount_of_cases variable using z-scores\n",
    "law_data_clean['amount_of_cases'].describe()\n",
    "\n",
    "#calculate Q1 and Q3, to use to define boundaries\n",
    "Q1 = np.percentile(law_data_clean['amount_of_cases'], 25, method='midpoint')\n",
    "Q3 = np.percentile(law_data_clean['amount_of_cases'], 75, method='midpoint')\n",
    "IQR = Q3 - Q1\n",
    "\n",
    "low_bound = Q1 - 1.5*IQR\n",
    "up_bound = Q3 + 1.5*IQR\n",
    "\n",
    "#remove amount of cases < 0\n",
    "law_data_clean = law_data_clean[law_data_clean['amount_of_cases'].between(0,100)]\n",
    "law_data_clean.count()\n",
    "#15526 - 15524 = 2 cases dropped\n",
    "\n",
    "#assess which values of amount_of_cases exceed the outlier boundary\n",
    "outlier_upper = np.where(law_data_clean['amount_of_cases'] >= up_bound)[0]\n",
    "outlier_lower = np.where(law_data_clean['amount_of_cases'] <= low_bound)[0]\n",
    "\n",
    "#check which indices are not in the dataset\n",
    "missing = [i for i in outlier_upper if i not in law_data_clean.index]\n",
    "outlier_upper = outlier_upper[~np.isin(outlier_upper, missing)]\n",
    "\n",
    "# #see how many outliers will be removed\n",
    "print(len(outlier_upper))\n",
    "print(len(outlier_lower))"
   ]
  },
  {
   "cell_type": "code",
   "execution_count": 13,
   "id": "d7377ea3",
   "metadata": {
    "colab": {
     "base_uri": "https://localhost:8080/"
    },
    "id": "d7377ea3",
    "outputId": "82abde4a-d10b-406f-ec2a-6f9d9d940484"
   },
   "outputs": [],
   "source": [
    "#removing outliers from the dataset (lower bound has no outliers)\n",
    "law_data_clean.drop(index=outlier_upper, inplace=True)"
   ]
  },
  {
   "cell_type": "code",
   "execution_count": 14,
   "id": "bc17cd29",
   "metadata": {
    "colab": {
     "base_uri": "https://localhost:8080/",
     "height": 335
    },
    "id": "bc17cd29",
    "outputId": "6203c6c5-0439-498e-ec76-4df3b7a84bef"
   },
   "outputs": [
    {
     "data": {
      "text/plain": [
       "count    14709.000000\n",
       "mean         1.592154\n",
       "std          2.177317\n",
       "min          0.000000\n",
       "25%          0.000000\n",
       "50%          0.000000\n",
       "75%          3.000000\n",
       "max         24.000000\n",
       "Name: amount_of_cases, dtype: float64"
      ]
     },
     "execution_count": 14,
     "metadata": {},
     "output_type": "execute_result"
    }
   ],
   "source": [
    "#PART OF TABLE 2 IN THE REPORT\n",
    "law_data_clean['amount_of_cases'].describe()"
   ]
  },
  {
   "cell_type": "code",
   "execution_count": 15,
   "id": "9ad28ff0",
   "metadata": {
    "colab": {
     "base_uri": "https://localhost:8080/",
     "height": 320
    },
    "id": "9ad28ff0",
    "outputId": "4593ec8a-dd80-4124-d7ec-fb683abdc6bf"
   },
   "outputs": [
    {
     "data": {
      "text/html": [
       "<div>\n",
       "<style scoped>\n",
       "    .dataframe tbody tr th:only-of-type {\n",
       "        vertical-align: middle;\n",
       "    }\n",
       "\n",
       "    .dataframe tbody tr th {\n",
       "        vertical-align: top;\n",
       "    }\n",
       "\n",
       "    .dataframe thead th {\n",
       "        text-align: right;\n",
       "    }\n",
       "</style>\n",
       "<table border=\"1\" class=\"dataframe\">\n",
       "  <thead>\n",
       "    <tr style=\"text-align: right;\">\n",
       "      <th></th>\n",
       "      <th>amount_of_cases</th>\n",
       "      <th>is_guilty</th>\n",
       "      <th>plural_court</th>\n",
       "      <th>jailsentence</th>\n",
       "      <th>age</th>\n",
       "    </tr>\n",
       "  </thead>\n",
       "  <tbody>\n",
       "    <tr>\n",
       "      <th>count</th>\n",
       "      <td>11921.000000</td>\n",
       "      <td>11921.000000</td>\n",
       "      <td>11921.000000</td>\n",
       "      <td>11921.000000</td>\n",
       "      <td>11921.000000</td>\n",
       "    </tr>\n",
       "    <tr>\n",
       "      <th>mean</th>\n",
       "      <td>1.958561</td>\n",
       "      <td>0.818472</td>\n",
       "      <td>0.979532</td>\n",
       "      <td>0.824092</td>\n",
       "      <td>40.632078</td>\n",
       "    </tr>\n",
       "    <tr>\n",
       "      <th>std</th>\n",
       "      <td>2.261836</td>\n",
       "      <td>0.385472</td>\n",
       "      <td>0.141601</td>\n",
       "      <td>0.380758</td>\n",
       "      <td>14.141312</td>\n",
       "    </tr>\n",
       "    <tr>\n",
       "      <th>min</th>\n",
       "      <td>0.000000</td>\n",
       "      <td>0.000000</td>\n",
       "      <td>0.000000</td>\n",
       "      <td>0.000000</td>\n",
       "      <td>18.000000</td>\n",
       "    </tr>\n",
       "    <tr>\n",
       "      <th>25%</th>\n",
       "      <td>0.000000</td>\n",
       "      <td>1.000000</td>\n",
       "      <td>1.000000</td>\n",
       "      <td>1.000000</td>\n",
       "      <td>29.000000</td>\n",
       "    </tr>\n",
       "    <tr>\n",
       "      <th>50%</th>\n",
       "      <td>2.000000</td>\n",
       "      <td>1.000000</td>\n",
       "      <td>1.000000</td>\n",
       "      <td>1.000000</td>\n",
       "      <td>38.000000</td>\n",
       "    </tr>\n",
       "    <tr>\n",
       "      <th>75%</th>\n",
       "      <td>3.000000</td>\n",
       "      <td>1.000000</td>\n",
       "      <td>1.000000</td>\n",
       "      <td>1.000000</td>\n",
       "      <td>51.000000</td>\n",
       "    </tr>\n",
       "    <tr>\n",
       "      <th>max</th>\n",
       "      <td>24.000000</td>\n",
       "      <td>1.000000</td>\n",
       "      <td>1.000000</td>\n",
       "      <td>1.000000</td>\n",
       "      <td>96.000000</td>\n",
       "    </tr>\n",
       "  </tbody>\n",
       "</table>\n",
       "</div>"
      ],
      "text/plain": [
       "       amount_of_cases     is_guilty  plural_court  jailsentence           age\n",
       "count     11921.000000  11921.000000  11921.000000  11921.000000  11921.000000\n",
       "mean          1.958561      0.818472      0.979532      0.824092     40.632078\n",
       "std           2.261836      0.385472      0.141601      0.380758     14.141312\n",
       "min           0.000000      0.000000      0.000000      0.000000     18.000000\n",
       "25%           0.000000      1.000000      1.000000      1.000000     29.000000\n",
       "50%           2.000000      1.000000      1.000000      1.000000     38.000000\n",
       "75%           3.000000      1.000000      1.000000      1.000000     51.000000\n",
       "max          24.000000      1.000000      1.000000      1.000000     96.000000"
      ]
     },
     "execution_count": 15,
     "metadata": {},
     "output_type": "execute_result"
    }
   ],
   "source": [
    "law_data_clean['courtcity'].value_counts()\n",
    "\n",
    "#drop rows where courtcity is missing\n",
    "\n",
    "law_data_clean = law_data_clean[law_data_clean['courtcity'] != '.']\n",
    "law_data_clean = law_data_clean[law_data_clean['courtcity'] != 'de']\n",
    "law_data_clean = law_data_clean[law_data_clean['courtcity'] != 'te']\n",
    "law_data_clean = law_data_clean[law_data_clean['courtcity'] != 'Rechtbank']\n",
    "\n",
    "law_data_clean.describe()"
   ]
  },
  {
   "cell_type": "code",
   "execution_count": 16,
   "id": "e02eb9d2",
   "metadata": {
    "colab": {
     "base_uri": "https://localhost:8080/",
     "height": 226
    },
    "id": "e02eb9d2",
    "outputId": "cdaabae4-f6d3-4b3c-8d34-c9a32bc79fce"
   },
   "outputs": [
    {
     "data": {
      "text/html": [
       "<div>\n",
       "<style scoped>\n",
       "    .dataframe tbody tr th:only-of-type {\n",
       "        vertical-align: middle;\n",
       "    }\n",
       "\n",
       "    .dataframe tbody tr th {\n",
       "        vertical-align: top;\n",
       "    }\n",
       "\n",
       "    .dataframe thead th {\n",
       "        text-align: right;\n",
       "    }\n",
       "</style>\n",
       "<table border=\"1\" class=\"dataframe\">\n",
       "  <thead>\n",
       "    <tr style=\"text-align: right;\">\n",
       "      <th></th>\n",
       "      <th>amount_of_cases</th>\n",
       "      <th>is_guilty</th>\n",
       "      <th>plural_court</th>\n",
       "      <th>jailsentence</th>\n",
       "      <th>age</th>\n",
       "      <th>courtcity_Amsterdam</th>\n",
       "      <th>courtcity_Arnhem</th>\n",
       "      <th>courtcity_Assen</th>\n",
       "      <th>courtcity_Breda</th>\n",
       "      <th>courtcity_Groningen</th>\n",
       "      <th>courtcity_Lelystad</th>\n",
       "      <th>courtcity_Maastricht</th>\n",
       "      <th>courtcity_Middelburg</th>\n",
       "      <th>courtcity_Roermond</th>\n",
       "      <th>courtcity_Rotterdam</th>\n",
       "      <th>courtcity_Schiphol</th>\n",
       "      <th>courtcity_Utrecht</th>\n",
       "      <th>courtcity_Zutphen</th>\n",
       "      <th>courtcity_Zwolle</th>\n",
       "    </tr>\n",
       "  </thead>\n",
       "  <tbody>\n",
       "    <tr>\n",
       "      <th>0</th>\n",
       "      <td>3</td>\n",
       "      <td>1</td>\n",
       "      <td>1</td>\n",
       "      <td>1</td>\n",
       "      <td>37</td>\n",
       "      <td>0</td>\n",
       "      <td>0</td>\n",
       "      <td>0</td>\n",
       "      <td>0</td>\n",
       "      <td>0</td>\n",
       "      <td>1</td>\n",
       "      <td>0</td>\n",
       "      <td>0</td>\n",
       "      <td>0</td>\n",
       "      <td>0</td>\n",
       "      <td>0</td>\n",
       "      <td>0</td>\n",
       "      <td>0</td>\n",
       "      <td>0</td>\n",
       "    </tr>\n",
       "    <tr>\n",
       "      <th>1</th>\n",
       "      <td>5</td>\n",
       "      <td>1</td>\n",
       "      <td>1</td>\n",
       "      <td>1</td>\n",
       "      <td>45</td>\n",
       "      <td>0</td>\n",
       "      <td>0</td>\n",
       "      <td>0</td>\n",
       "      <td>0</td>\n",
       "      <td>0</td>\n",
       "      <td>0</td>\n",
       "      <td>0</td>\n",
       "      <td>0</td>\n",
       "      <td>0</td>\n",
       "      <td>0</td>\n",
       "      <td>0</td>\n",
       "      <td>1</td>\n",
       "      <td>0</td>\n",
       "      <td>0</td>\n",
       "    </tr>\n",
       "    <tr>\n",
       "      <th>2</th>\n",
       "      <td>4</td>\n",
       "      <td>1</td>\n",
       "      <td>1</td>\n",
       "      <td>1</td>\n",
       "      <td>35</td>\n",
       "      <td>0</td>\n",
       "      <td>0</td>\n",
       "      <td>0</td>\n",
       "      <td>1</td>\n",
       "      <td>0</td>\n",
       "      <td>0</td>\n",
       "      <td>0</td>\n",
       "      <td>0</td>\n",
       "      <td>0</td>\n",
       "      <td>0</td>\n",
       "      <td>0</td>\n",
       "      <td>0</td>\n",
       "      <td>0</td>\n",
       "      <td>0</td>\n",
       "    </tr>\n",
       "    <tr>\n",
       "      <th>3</th>\n",
       "      <td>4</td>\n",
       "      <td>1</td>\n",
       "      <td>1</td>\n",
       "      <td>1</td>\n",
       "      <td>37</td>\n",
       "      <td>0</td>\n",
       "      <td>0</td>\n",
       "      <td>0</td>\n",
       "      <td>1</td>\n",
       "      <td>0</td>\n",
       "      <td>0</td>\n",
       "      <td>0</td>\n",
       "      <td>0</td>\n",
       "      <td>0</td>\n",
       "      <td>0</td>\n",
       "      <td>0</td>\n",
       "      <td>0</td>\n",
       "      <td>0</td>\n",
       "      <td>0</td>\n",
       "    </tr>\n",
       "    <tr>\n",
       "      <th>4</th>\n",
       "      <td>0</td>\n",
       "      <td>0</td>\n",
       "      <td>1</td>\n",
       "      <td>0</td>\n",
       "      <td>44</td>\n",
       "      <td>0</td>\n",
       "      <td>0</td>\n",
       "      <td>0</td>\n",
       "      <td>1</td>\n",
       "      <td>0</td>\n",
       "      <td>0</td>\n",
       "      <td>0</td>\n",
       "      <td>0</td>\n",
       "      <td>0</td>\n",
       "      <td>0</td>\n",
       "      <td>0</td>\n",
       "      <td>0</td>\n",
       "      <td>0</td>\n",
       "      <td>0</td>\n",
       "    </tr>\n",
       "  </tbody>\n",
       "</table>\n",
       "</div>"
      ],
      "text/plain": [
       "   amount_of_cases  is_guilty  plural_court  jailsentence  age  \\\n",
       "0                3          1             1             1   37   \n",
       "1                5          1             1             1   45   \n",
       "2                4          1             1             1   35   \n",
       "3                4          1             1             1   37   \n",
       "4                0          0             1             0   44   \n",
       "\n",
       "   courtcity_Amsterdam  courtcity_Arnhem  courtcity_Assen  courtcity_Breda  \\\n",
       "0                    0                 0                0                0   \n",
       "1                    0                 0                0                0   \n",
       "2                    0                 0                0                1   \n",
       "3                    0                 0                0                1   \n",
       "4                    0                 0                0                1   \n",
       "\n",
       "   courtcity_Groningen  courtcity_Lelystad  courtcity_Maastricht  \\\n",
       "0                    0                   1                     0   \n",
       "1                    0                   0                     0   \n",
       "2                    0                   0                     0   \n",
       "3                    0                   0                     0   \n",
       "4                    0                   0                     0   \n",
       "\n",
       "   courtcity_Middelburg  courtcity_Roermond  courtcity_Rotterdam  \\\n",
       "0                     0                   0                    0   \n",
       "1                     0                   0                    0   \n",
       "2                     0                   0                    0   \n",
       "3                     0                   0                    0   \n",
       "4                     0                   0                    0   \n",
       "\n",
       "   courtcity_Schiphol  courtcity_Utrecht  courtcity_Zutphen  courtcity_Zwolle  \n",
       "0                   0                  0                  0                 0  \n",
       "1                   0                  1                  0                 0  \n",
       "2                   0                  0                  0                 0  \n",
       "3                   0                  0                  0                 0  \n",
       "4                   0                  0                  0                 0  "
      ]
     },
     "execution_count": 16,
     "metadata": {},
     "output_type": "execute_result"
    }
   ],
   "source": [
    "#one-hot encoding courtcity\n",
    "law_data_clean_enc = pd.get_dummies(law_data_clean, columns=['courtcity'], drop_first=True)\n",
    "\n",
    "law_data_clean_enc.head()"
   ]
  },
  {
   "cell_type": "code",
   "execution_count": 17,
   "id": "09e44d9a",
   "metadata": {
    "colab": {
     "base_uri": "https://localhost:8080/",
     "height": 586
    },
    "id": "09e44d9a",
    "outputId": "38893237-8769-44ac-ab47-a0dd33a6ebdb"
   },
   "outputs": [
    {
     "data": {
      "text/plain": [
       "Breda         2182\n",
       "Zwolle        1868\n",
       "Utrecht       1786\n",
       "Almelo        1552\n",
       "Arnhem        1407\n",
       "Lelystad       901\n",
       "Zutphen        849\n",
       "Middelburg     689\n",
       "Maastricht     329\n",
       "Roermond       324\n",
       "Amsterdam       26\n",
       "Rotterdam        4\n",
       "Schiphol         2\n",
       "Assen            1\n",
       "Groningen        1\n",
       "Name: courtcity, dtype: int64"
      ]
     },
     "execution_count": 17,
     "metadata": {},
     "output_type": "execute_result"
    }
   ],
   "source": [
    "#TABLE 3 IN THE REPORT\n",
    "law_data_clean['courtcity'].value_counts()"
   ]
  },
  {
   "cell_type": "code",
   "execution_count": 18,
   "id": "0bd76e8b",
   "metadata": {
    "colab": {
     "base_uri": "https://localhost:8080/",
     "height": 320
    },
    "id": "0bd76e8b",
    "outputId": "148f1065-3ab3-4d5b-9091-5a09e2d72b7b"
   },
   "outputs": [
    {
     "data": {
      "text/html": [
       "<div>\n",
       "<style scoped>\n",
       "    .dataframe tbody tr th:only-of-type {\n",
       "        vertical-align: middle;\n",
       "    }\n",
       "\n",
       "    .dataframe tbody tr th {\n",
       "        vertical-align: top;\n",
       "    }\n",
       "\n",
       "    .dataframe thead th {\n",
       "        text-align: right;\n",
       "    }\n",
       "</style>\n",
       "<table border=\"1\" class=\"dataframe\">\n",
       "  <thead>\n",
       "    <tr style=\"text-align: right;\">\n",
       "      <th></th>\n",
       "      <th>amount_of_cases</th>\n",
       "      <th>is_guilty</th>\n",
       "      <th>plural_court</th>\n",
       "      <th>jailsentence</th>\n",
       "      <th>age</th>\n",
       "      <th>courtcity_Amsterdam</th>\n",
       "      <th>courtcity_Arnhem</th>\n",
       "      <th>courtcity_Assen</th>\n",
       "      <th>courtcity_Breda</th>\n",
       "      <th>courtcity_Groningen</th>\n",
       "      <th>courtcity_Lelystad</th>\n",
       "      <th>courtcity_Maastricht</th>\n",
       "      <th>courtcity_Middelburg</th>\n",
       "      <th>courtcity_Roermond</th>\n",
       "      <th>courtcity_Rotterdam</th>\n",
       "      <th>courtcity_Schiphol</th>\n",
       "      <th>courtcity_Utrecht</th>\n",
       "      <th>courtcity_Zutphen</th>\n",
       "      <th>courtcity_Zwolle</th>\n",
       "    </tr>\n",
       "  </thead>\n",
       "  <tbody>\n",
       "    <tr>\n",
       "      <th>count</th>\n",
       "      <td>11921.000000</td>\n",
       "      <td>11921.000000</td>\n",
       "      <td>11921.000000</td>\n",
       "      <td>11921.000000</td>\n",
       "      <td>11921.000000</td>\n",
       "      <td>11921.000000</td>\n",
       "      <td>11921.000000</td>\n",
       "      <td>11921.000000</td>\n",
       "      <td>11921.000000</td>\n",
       "      <td>11921.000000</td>\n",
       "      <td>11921.000000</td>\n",
       "      <td>11921.000000</td>\n",
       "      <td>11921.000000</td>\n",
       "      <td>11921.000000</td>\n",
       "      <td>11921.000000</td>\n",
       "      <td>11921.000000</td>\n",
       "      <td>11921.00000</td>\n",
       "      <td>11921.000000</td>\n",
       "      <td>11921.000000</td>\n",
       "    </tr>\n",
       "    <tr>\n",
       "      <th>mean</th>\n",
       "      <td>1.958561</td>\n",
       "      <td>0.818472</td>\n",
       "      <td>0.979532</td>\n",
       "      <td>0.824092</td>\n",
       "      <td>40.632078</td>\n",
       "      <td>0.002181</td>\n",
       "      <td>0.118027</td>\n",
       "      <td>0.000084</td>\n",
       "      <td>0.183038</td>\n",
       "      <td>0.000084</td>\n",
       "      <td>0.075581</td>\n",
       "      <td>0.027598</td>\n",
       "      <td>0.057797</td>\n",
       "      <td>0.027179</td>\n",
       "      <td>0.000336</td>\n",
       "      <td>0.000168</td>\n",
       "      <td>0.14982</td>\n",
       "      <td>0.071219</td>\n",
       "      <td>0.156698</td>\n",
       "    </tr>\n",
       "    <tr>\n",
       "      <th>std</th>\n",
       "      <td>2.261836</td>\n",
       "      <td>0.385472</td>\n",
       "      <td>0.141601</td>\n",
       "      <td>0.380758</td>\n",
       "      <td>14.141312</td>\n",
       "      <td>0.046652</td>\n",
       "      <td>0.322654</td>\n",
       "      <td>0.009159</td>\n",
       "      <td>0.386714</td>\n",
       "      <td>0.009159</td>\n",
       "      <td>0.264337</td>\n",
       "      <td>0.163826</td>\n",
       "      <td>0.233369</td>\n",
       "      <td>0.162611</td>\n",
       "      <td>0.018316</td>\n",
       "      <td>0.012952</td>\n",
       "      <td>0.35691</td>\n",
       "      <td>0.257201</td>\n",
       "      <td>0.363531</td>\n",
       "    </tr>\n",
       "    <tr>\n",
       "      <th>min</th>\n",
       "      <td>0.000000</td>\n",
       "      <td>0.000000</td>\n",
       "      <td>0.000000</td>\n",
       "      <td>0.000000</td>\n",
       "      <td>18.000000</td>\n",
       "      <td>0.000000</td>\n",
       "      <td>0.000000</td>\n",
       "      <td>0.000000</td>\n",
       "      <td>0.000000</td>\n",
       "      <td>0.000000</td>\n",
       "      <td>0.000000</td>\n",
       "      <td>0.000000</td>\n",
       "      <td>0.000000</td>\n",
       "      <td>0.000000</td>\n",
       "      <td>0.000000</td>\n",
       "      <td>0.000000</td>\n",
       "      <td>0.00000</td>\n",
       "      <td>0.000000</td>\n",
       "      <td>0.000000</td>\n",
       "    </tr>\n",
       "    <tr>\n",
       "      <th>25%</th>\n",
       "      <td>0.000000</td>\n",
       "      <td>1.000000</td>\n",
       "      <td>1.000000</td>\n",
       "      <td>1.000000</td>\n",
       "      <td>29.000000</td>\n",
       "      <td>0.000000</td>\n",
       "      <td>0.000000</td>\n",
       "      <td>0.000000</td>\n",
       "      <td>0.000000</td>\n",
       "      <td>0.000000</td>\n",
       "      <td>0.000000</td>\n",
       "      <td>0.000000</td>\n",
       "      <td>0.000000</td>\n",
       "      <td>0.000000</td>\n",
       "      <td>0.000000</td>\n",
       "      <td>0.000000</td>\n",
       "      <td>0.00000</td>\n",
       "      <td>0.000000</td>\n",
       "      <td>0.000000</td>\n",
       "    </tr>\n",
       "    <tr>\n",
       "      <th>50%</th>\n",
       "      <td>2.000000</td>\n",
       "      <td>1.000000</td>\n",
       "      <td>1.000000</td>\n",
       "      <td>1.000000</td>\n",
       "      <td>38.000000</td>\n",
       "      <td>0.000000</td>\n",
       "      <td>0.000000</td>\n",
       "      <td>0.000000</td>\n",
       "      <td>0.000000</td>\n",
       "      <td>0.000000</td>\n",
       "      <td>0.000000</td>\n",
       "      <td>0.000000</td>\n",
       "      <td>0.000000</td>\n",
       "      <td>0.000000</td>\n",
       "      <td>0.000000</td>\n",
       "      <td>0.000000</td>\n",
       "      <td>0.00000</td>\n",
       "      <td>0.000000</td>\n",
       "      <td>0.000000</td>\n",
       "    </tr>\n",
       "    <tr>\n",
       "      <th>75%</th>\n",
       "      <td>3.000000</td>\n",
       "      <td>1.000000</td>\n",
       "      <td>1.000000</td>\n",
       "      <td>1.000000</td>\n",
       "      <td>51.000000</td>\n",
       "      <td>0.000000</td>\n",
       "      <td>0.000000</td>\n",
       "      <td>0.000000</td>\n",
       "      <td>0.000000</td>\n",
       "      <td>0.000000</td>\n",
       "      <td>0.000000</td>\n",
       "      <td>0.000000</td>\n",
       "      <td>0.000000</td>\n",
       "      <td>0.000000</td>\n",
       "      <td>0.000000</td>\n",
       "      <td>0.000000</td>\n",
       "      <td>0.00000</td>\n",
       "      <td>0.000000</td>\n",
       "      <td>0.000000</td>\n",
       "    </tr>\n",
       "    <tr>\n",
       "      <th>max</th>\n",
       "      <td>24.000000</td>\n",
       "      <td>1.000000</td>\n",
       "      <td>1.000000</td>\n",
       "      <td>1.000000</td>\n",
       "      <td>96.000000</td>\n",
       "      <td>1.000000</td>\n",
       "      <td>1.000000</td>\n",
       "      <td>1.000000</td>\n",
       "      <td>1.000000</td>\n",
       "      <td>1.000000</td>\n",
       "      <td>1.000000</td>\n",
       "      <td>1.000000</td>\n",
       "      <td>1.000000</td>\n",
       "      <td>1.000000</td>\n",
       "      <td>1.000000</td>\n",
       "      <td>1.000000</td>\n",
       "      <td>1.00000</td>\n",
       "      <td>1.000000</td>\n",
       "      <td>1.000000</td>\n",
       "    </tr>\n",
       "  </tbody>\n",
       "</table>\n",
       "</div>"
      ],
      "text/plain": [
       "       amount_of_cases     is_guilty  plural_court  jailsentence  \\\n",
       "count     11921.000000  11921.000000  11921.000000  11921.000000   \n",
       "mean          1.958561      0.818472      0.979532      0.824092   \n",
       "std           2.261836      0.385472      0.141601      0.380758   \n",
       "min           0.000000      0.000000      0.000000      0.000000   \n",
       "25%           0.000000      1.000000      1.000000      1.000000   \n",
       "50%           2.000000      1.000000      1.000000      1.000000   \n",
       "75%           3.000000      1.000000      1.000000      1.000000   \n",
       "max          24.000000      1.000000      1.000000      1.000000   \n",
       "\n",
       "                age  courtcity_Amsterdam  courtcity_Arnhem  courtcity_Assen  \\\n",
       "count  11921.000000         11921.000000      11921.000000     11921.000000   \n",
       "mean      40.632078             0.002181          0.118027         0.000084   \n",
       "std       14.141312             0.046652          0.322654         0.009159   \n",
       "min       18.000000             0.000000          0.000000         0.000000   \n",
       "25%       29.000000             0.000000          0.000000         0.000000   \n",
       "50%       38.000000             0.000000          0.000000         0.000000   \n",
       "75%       51.000000             0.000000          0.000000         0.000000   \n",
       "max       96.000000             1.000000          1.000000         1.000000   \n",
       "\n",
       "       courtcity_Breda  courtcity_Groningen  courtcity_Lelystad  \\\n",
       "count     11921.000000         11921.000000        11921.000000   \n",
       "mean          0.183038             0.000084            0.075581   \n",
       "std           0.386714             0.009159            0.264337   \n",
       "min           0.000000             0.000000            0.000000   \n",
       "25%           0.000000             0.000000            0.000000   \n",
       "50%           0.000000             0.000000            0.000000   \n",
       "75%           0.000000             0.000000            0.000000   \n",
       "max           1.000000             1.000000            1.000000   \n",
       "\n",
       "       courtcity_Maastricht  courtcity_Middelburg  courtcity_Roermond  \\\n",
       "count          11921.000000          11921.000000        11921.000000   \n",
       "mean               0.027598              0.057797            0.027179   \n",
       "std                0.163826              0.233369            0.162611   \n",
       "min                0.000000              0.000000            0.000000   \n",
       "25%                0.000000              0.000000            0.000000   \n",
       "50%                0.000000              0.000000            0.000000   \n",
       "75%                0.000000              0.000000            0.000000   \n",
       "max                1.000000              1.000000            1.000000   \n",
       "\n",
       "       courtcity_Rotterdam  courtcity_Schiphol  courtcity_Utrecht  \\\n",
       "count         11921.000000        11921.000000        11921.00000   \n",
       "mean              0.000336            0.000168            0.14982   \n",
       "std               0.018316            0.012952            0.35691   \n",
       "min               0.000000            0.000000            0.00000   \n",
       "25%               0.000000            0.000000            0.00000   \n",
       "50%               0.000000            0.000000            0.00000   \n",
       "75%               0.000000            0.000000            0.00000   \n",
       "max               1.000000            1.000000            1.00000   \n",
       "\n",
       "       courtcity_Zutphen  courtcity_Zwolle  \n",
       "count       11921.000000      11921.000000  \n",
       "mean            0.071219          0.156698  \n",
       "std             0.257201          0.363531  \n",
       "min             0.000000          0.000000  \n",
       "25%             0.000000          0.000000  \n",
       "50%             0.000000          0.000000  \n",
       "75%             0.000000          0.000000  \n",
       "max             1.000000          1.000000  "
      ]
     },
     "execution_count": 18,
     "metadata": {},
     "output_type": "execute_result"
    }
   ],
   "source": [
    "law_data_clean_enc.describe()"
   ]
  },
  {
   "cell_type": "code",
   "execution_count": 19,
   "id": "c80ec99a",
   "metadata": {
    "colab": {
     "base_uri": "https://localhost:8080/",
     "height": 512
    },
    "id": "c80ec99a",
    "outputId": "d3c1de6b-ff00-42f3-d66d-59ecf309718c"
   },
   "outputs": [
    {
     "data": {
      "image/png": "[encoded data removed]",
      "text/plain": [
       "<Figure size 500x500 with 1 Axes>"
      ]
     },
     "metadata": {},
     "output_type": "display_data"
    }
   ],
   "source": [
    "#plot the age distribution in the dataset --> FIGURE 3 IN THE REPORT\n",
    "plot = sns.displot(law_data_clean_enc, x=\"age\", binwidth=3)\n",
    "plot.fig.suptitle('Age distribution in the dataset')\n",
    "\n",
    "plot.savefig('age_distribution.png')"
   ]
  },
  {
   "cell_type": "code",
   "execution_count": 20,
   "id": "0a5e7ae8",
   "metadata": {
    "colab": {
     "base_uri": "https://localhost:8080/",
     "height": 512
    },
    "id": "0a5e7ae8",
    "outputId": "9afdbd29-30f9-4155-86ac-3ef25a161d3d"
   },
   "outputs": [
    {
     "data": {
      "image/png": "[encoded data removed]",
      "text/plain": [
       "<Figure size 500x500 with 1 Axes>"
      ]
     },
     "metadata": {},
     "output_type": "display_data"
    }
   ],
   "source": [
    "#plot the amount of cases distribution in the dataset (after removing outliers) --> FIGURE 4 IN THE REPORT\n",
    "plot = sns.displot(law_data_clean_enc, x=\"amount_of_cases\", binwidth=2)\n",
    "plot.fig.suptitle('Amount of cases distribution in the dataset')\n",
    "\n",
    "plot.savefig('amount_of_cases_distribution.png')\n"
   ]
  },
  {
   "cell_type": "code",
   "execution_count": 21,
   "id": "32ebaf2c",
   "metadata": {
    "colab": {
     "base_uri": "https://localhost:8080/",
     "height": 178
    },
    "id": "32ebaf2c",
    "outputId": "0cc16fc1-9dc3-40f9-ac42-0fdf0b74038e"
   },
   "outputs": [
    {
     "data": {
      "text/plain": [
       "1    9824\n",
       "0    2097\n",
       "Name: jailsentence, dtype: int64"
      ]
     },
     "execution_count": 21,
     "metadata": {},
     "output_type": "execute_result"
    }
   ],
   "source": [
    "#see how many jailsentences and not going to jail are in the dataset\n",
    "law_data_clean_enc['jailsentence'].value_counts()"
   ]
  },
  {
   "cell_type": "code",
   "execution_count": 22,
   "id": "8fd77474",
   "metadata": {
    "colab": {
     "base_uri": "https://localhost:8080/",
     "height": 178
    },
    "id": "8fd77474",
    "outputId": "e07add5e-bf54-4398-ae4d-c74b536527cf"
   },
   "outputs": [
    {
     "data": {
      "text/plain": [
       "1    11677\n",
       "0      244\n",
       "Name: plural_court, dtype: int64"
      ]
     },
     "execution_count": 22,
     "metadata": {},
     "output_type": "execute_result"
    }
   ],
   "source": [
    "#see how many plural and singular courts are in the dataset\n",
    "law_data_clean_enc['plural_court'].value_counts()"
   ]
  },
  {
   "cell_type": "code",
   "execution_count": 23,
   "id": "d6bc6dd4",
   "metadata": {
    "colab": {
     "base_uri": "https://localhost:8080/"
    },
    "id": "d6bc6dd4",
    "outputId": "da4bfaf5-e12d-4903-e0ee-fa74870bc44d"
   },
   "outputs": [
    {
     "name": "stdout",
     "output_type": "stream",
     "text": [
      "jailsentence     0     1\n",
      "is_guilty               \n",
      "0             1228   936\n",
      "1              869  8888\n"
     ]
    }
   ],
   "source": [
    "#TABLE 4 IN THE REPORT\n",
    "crosstable = pd.crosstab(law_data_clean_enc['is_guilty'], law_data_clean_enc['jailsentence'])\n",
    "\n",
    "print(crosstable)\n"
   ]
  },
  {
   "cell_type": "code",
   "execution_count": 24,
   "id": "f4521ec4",
   "metadata": {
    "id": "f4521ec4"
   },
   "outputs": [],
   "source": [
    "#remove infeasible data points (not guilty and received a jail sentence)\n",
    "law_data_clean_enc = law_data_clean_enc[~((law_data_clean_enc['jailsentence'] == 1) & (law_data_clean_enc['is_guilty'] == 0))]"
   ]
  },
  {
   "cell_type": "code",
   "execution_count": 25,
   "id": "fc91f0c7",
   "metadata": {
    "colab": {
     "base_uri": "https://localhost:8080/",
     "height": 178
    },
    "id": "fc91f0c7",
    "outputId": "e2ffd82d-58f7-4570-f691-a91a8fef4e93"
   },
   "outputs": [
    {
     "data": {
      "text/plain": [
       "1    8888\n",
       "0    2097\n",
       "Name: jailsentence, dtype: int64"
      ]
     },
     "execution_count": 25,
     "metadata": {},
     "output_type": "execute_result"
    }
   ],
   "source": [
    "#see how many cases are left\n",
    "law_data_clean_enc['jailsentence'].value_counts()"
   ]
  },
  {
   "cell_type": "code",
   "execution_count": 26,
   "id": "2cbb2039",
   "metadata": {
    "id": "2cbb2039"
   },
   "outputs": [],
   "source": [
    "#define predictor variable to later split the dataset in predictors and target variable\n",
    "predictor_var = 'jailsentence'\n",
    "\n",
    "#create different variables for predictor and predicted variables\n",
    "X = law_data_clean_enc.drop(columns=[predictor_var])\n",
    "y = law_data_clean_enc[predictor_var]"
   ]
  },
  {
   "cell_type": "code",
   "execution_count": 27,
   "id": "5aa31f91",
   "metadata": {
    "id": "5aa31f91"
   },
   "outputs": [],
   "source": [
    "#split data in training and testing set\n",
    "X_train, X_test, y_train, y_test = train_test_split(X, y, test_size=0.3, random_state=40)\n"
   ]
  },
  {
   "cell_type": "code",
   "execution_count": 28,
   "id": "05644466",
   "metadata": {},
   "outputs": [
    {
     "name": "stdout",
     "output_type": "stream",
     "text": [
      "Accuracy (Unbalanced LR): 0.9162621359223301\n",
      "\n",
      "Classification Report (Unbalanced LR):\n",
      "              precision    recall  f1-score   support\n",
      "\n",
      "           0       1.00      0.59      0.74       669\n",
      "           1       0.90      1.00      0.95      2627\n",
      "\n",
      "    accuracy                           0.92      3296\n",
      "   macro avg       0.95      0.79      0.85      3296\n",
      "weighted avg       0.92      0.92      0.91      3296\n",
      "\n",
      "coefficient [amount_of_cases]: 1.13\n",
      "coefficient [is_guilty]: 1476.82\n",
      "coefficient [plural_court]: 2.80\n",
      "coefficient [age]: 1.03\n",
      "coefficient [courtcity_Amsterdam]: 0.71\n",
      "coefficient [courtcity_Arnhem]: 0.70\n",
      "coefficient [courtcity_Assen]: 0.99\n",
      "coefficient [courtcity_Breda]: 0.66\n",
      "coefficient [courtcity_Groningen]: 1.05\n",
      "coefficient [courtcity_Lelystad]: 1.23\n",
      "coefficient [courtcity_Maastricht]: 1.39\n",
      "coefficient [courtcity_Middelburg]: 0.54\n",
      "coefficient [courtcity_Roermond]: 1.16\n",
      "coefficient [courtcity_Rotterdam]: 1.26\n",
      "coefficient [courtcity_Schiphol]: 1.02\n",
      "coefficient [courtcity_Utrecht]: 1.20\n",
      "coefficient [courtcity_Zutphen]: 1.06\n",
      "coefficient [courtcity_Zwolle]: 0.87\n"
     ]
    }
   ],
   "source": [
    "# Train and test an unbalanced logistic regression model\n",
    "model_LR_unbalanced = LogisticRegression(max_iter=1000)  # No class_weight parameter\n",
    "model_LR_unbalanced.fit(X_train, y_train)\n",
    "\n",
    "\n",
    "# Predict on test set\n",
    "y_pred_LR_unbalanced = model_LR_unbalanced.predict(X_test)\n",
    "\n",
    "# Evaluation\n",
    "print(\"Accuracy (Unbalanced LR):\", accuracy_score(y_test, y_pred_LR_unbalanced))\n",
    "print(\"\\nClassification Report (Unbalanced LR):\")\n",
    "print(classification_report(y_test, y_pred_LR_unbalanced))\n",
    "\n",
    "\n",
    "#calculate effect sizes of the predictor variables:\n",
    "#first, define which columns represent cities, so they can be combined later on\n",
    "column_names = X.columns\n",
    "\n",
    "#calculate coefficients for all predictor variables:\n",
    "coefficients = np.exp(model_LR_unbalanced.coef_[0])\n",
    "\n",
    "#TABLE 9 IN THE REPORT: \n",
    "for variable, coeff in zip(column_names, coefficients):\n",
    "    print(f\"coefficient [{variable}]: {coeff:.2f}\")"
   ]
  },
  {
   "cell_type": "code",
   "execution_count": 29,
   "id": "a4cc9fb0",
   "metadata": {
    "colab": {
     "base_uri": "https://localhost:8080/"
    },
    "id": "a4cc9fb0",
    "outputId": "bfd5ad8b-5fcb-4baa-9153-a1f9b9b7f74d"
   },
   "outputs": [
    {
     "name": "stdout",
     "output_type": "stream",
     "text": [
      "Accuracy (balanced LR): 0.9108009708737864\n",
      "\n",
      "Classification Report balanced LR:\n",
      "              precision    recall  f1-score   support\n",
      "\n",
      "           0       0.89      0.64      0.74       669\n",
      "           1       0.91      0.98      0.95      2627\n",
      "\n",
      "    accuracy                           0.91      3296\n",
      "   macro avg       0.90      0.81      0.84      3296\n",
      "weighted avg       0.91      0.91      0.90      3296\n",
      "\n"
     ]
    }
   ],
   "source": [
    "#train and test a balance logistic regression model (to adapt for unbalanced class distribution of target variable)\n",
    "model_LR_balanced = LogisticRegression(class_weight='balanced', max_iter=1000)\n",
    "model_LR_balanced.fit(X_train, y_train)\n",
    "\n",
    "#predict target variable in test set\n",
    "y_pred_LR_balanced = model_LR_balanced.predict(X_test)\n",
    "\n",
    "#model performance\n",
    "print(\"Accuracy (balanced LR):\", accuracy_score(y_test, y_pred_LR_balanced))\n",
    "print(\"\\nClassification Report balanced LR:\")\n",
    "print(classification_report(y_test, y_pred_LR_balanced))"
   ]
  },
  {
   "cell_type": "code",
   "execution_count": 30,
   "id": "1aa94434",
   "metadata": {},
   "outputs": [
    {
     "name": "stderr",
     "output_type": "stream",
     "text": [
      "C:\\Users\\20202300\\AppData\\Local\\anaconda3\\lib\\site-packages\\sklearn\\model_selection\\_validation.py:378: FitFailedWarning: \n",
      "30 fits failed out of a total of 60.\n",
      "The score on these train-test partitions for these parameters will be set to nan.\n",
      "If these failures are not expected, you can try to debug them by setting error_score='raise'.\n",
      "\n",
      "Below are more details about the failures:\n",
      "--------------------------------------------------------------------------------\n",
      "30 fits failed with the following error:\n",
      "Traceback (most recent call last):\n",
      "  File \"C:\\Users\\20202300\\AppData\\Local\\anaconda3\\lib\\site-packages\\sklearn\\model_selection\\_validation.py\", line 686, in _fit_and_score\n",
      "    estimator.fit(X_train, y_train, **fit_params)\n",
      "  File \"C:\\Users\\20202300\\AppData\\Local\\anaconda3\\lib\\site-packages\\sklearn\\linear_model\\_logistic.py\", line 1162, in fit\n",
      "    solver = _check_solver(self.solver, self.penalty, self.dual)\n",
      "  File \"C:\\Users\\20202300\\AppData\\Local\\anaconda3\\lib\\site-packages\\sklearn\\linear_model\\_logistic.py\", line 54, in _check_solver\n",
      "    raise ValueError(\n",
      "ValueError: Solver lbfgs supports only 'l2' or 'none' penalties, got l1 penalty.\n",
      "\n",
      "  warnings.warn(some_fits_failed_message, FitFailedWarning)\n",
      "C:\\Users\\20202300\\AppData\\Local\\anaconda3\\lib\\site-packages\\sklearn\\model_selection\\_search.py:952: UserWarning: One or more of the test scores are non-finite: [       nan 0.73922805        nan 0.80041489        nan 0.79965133\n",
      "        nan 0.80351162        nan 0.80322358        nan 0.80357446]\n",
      "  warnings.warn(\n"
     ]
    },
    {
     "name": "stdout",
     "output_type": "stream",
     "text": [
      "Best parameters for Logistic Regression: {'C': 100, 'class_weight': 'balanced', 'penalty': 'l2'}\n",
      "Accuracy (Grid search Tuned LR): 0.9101941747572816\n",
      "\n",
      "Classification Report (Grid search  Tuned LR):\n",
      "              precision    recall  f1-score   support\n",
      "\n",
      "           0       0.89      0.64      0.74       669\n",
      "           1       0.91      0.98      0.95      2627\n",
      "\n",
      "    accuracy                           0.91      3296\n",
      "   macro avg       0.90      0.81      0.84      3296\n",
      "weighted avg       0.91      0.91      0.90      3296\n",
      "\n"
     ]
    }
   ],
   "source": [
    "#HYPERPARAMETER TUNING using grid search\n",
    "#define the parameter grid --> TABLE 5 IN THE REPORT\n",
    "param_grid_LR = {\n",
    "    'C': [0.001, 0.01, 0.1, 1, 10, 100],   #strength of regularization\n",
    "    'penalty': ['l1', 'l2'],               #type of regularization               \n",
    "    'class_weight': ['balanced']           #keep class balancing\n",
    "}\n",
    "\n",
    "grid_LR = GridSearchCV(\n",
    "    LogisticRegression(max_iter=1000),\n",
    "    param_grid_LR,\n",
    "    cv=5,                           #5-fold cross-validation\n",
    "    scoring='recall_macro',         #objective: maximize recall\n",
    "    n_jobs=-1                       #use all available cores\n",
    ")\n",
    "\n",
    "#fit the model\n",
    "grid_LR.fit(X_train, y_train)\n",
    "\n",
    "#print best parameters\n",
    "print(\"Best parameters for Logistic Regression:\", grid_LR.best_params_)\n",
    "\n",
    "#predict target variables of test set\n",
    "y_pred_LR_tuned = grid_LR.predict(X_test)\n",
    "\n",
    "#model performance\n",
    "print(\"Accuracy (Grid search Tuned LR):\", accuracy_score(y_test, y_pred_LR_tuned))\n",
    "print(\"\\nClassification Report (Grid search  Tuned LR):\")\n",
    "print(classification_report(y_test, y_pred_LR_tuned))\n"
   ]
  },
  {
   "cell_type": "code",
   "execution_count": 31,
   "id": "be878ff8",
   "metadata": {},
   "outputs": [
    {
     "name": "stdout",
     "output_type": "stream",
     "text": [
      "\n",
      "--- Logistic Regression with threshold = 0.4 ---\n",
      "Accuracy: 0.9135315533980582\n",
      "\n",
      "Classification Report:\n",
      "              precision    recall  f1-score   support\n",
      "\n",
      "           0       0.97      0.59      0.73       669\n",
      "           1       0.91      1.00      0.95      2627\n",
      "\n",
      "    accuracy                           0.91      3296\n",
      "   macro avg       0.94      0.79      0.84      3296\n",
      "weighted avg       0.92      0.91      0.91      3296\n",
      "\n"
     ]
    }
   ],
   "source": [
    "#threshold calibration for Logistic Regression (Tuned)\n",
    "y_pred_proba_LR = grid_LR.predict_proba(X_test)[:, 1]\n",
    "\n",
    "#lower treshold \n",
    "threshold_LR = 0.4  \n",
    "\n",
    "#apply threshold\n",
    "y_pred_LR_threshold = (y_pred_proba_LR >= threshold_LR).astype(int)\n",
    "\n",
    "#model performance:\n",
    "print(f\"\\n--- Logistic Regression with threshold = {threshold_LR} ---\")\n",
    "print(\"Accuracy:\", accuracy_score(y_test, y_pred_LR_threshold))\n",
    "print(\"\\nClassification Report:\")\n",
    "print(classification_report(y_test, y_pred_LR_threshold))"
   ]
  },
  {
   "cell_type": "code",
   "execution_count": 32,
   "id": "c962bcf1",
   "metadata": {},
   "outputs": [],
   "source": [
    "#add interaction terms to logistic regression\n",
    "poly = PolynomialFeatures(degree=2, interaction_only=True, include_bias=False)\n",
    "\n",
    "#transform your X_train and X_test\n",
    "X_train_inter = poly.fit_transform(X_train)\n",
    "X_test_inter = poly.transform(X_test)"
   ]
  },
  {
   "cell_type": "code",
   "execution_count": 33,
   "id": "80213f58",
   "metadata": {},
   "outputs": [
    {
     "name": "stderr",
     "output_type": "stream",
     "text": [
      "C:\\Users\\20202300\\AppData\\Local\\anaconda3\\lib\\site-packages\\sklearn\\model_selection\\_validation.py:378: FitFailedWarning: \n",
      "20 fits failed out of a total of 40.\n",
      "The score on these train-test partitions for these parameters will be set to nan.\n",
      "If these failures are not expected, you can try to debug them by setting error_score='raise'.\n",
      "\n",
      "Below are more details about the failures:\n",
      "--------------------------------------------------------------------------------\n",
      "20 fits failed with the following error:\n",
      "Traceback (most recent call last):\n",
      "  File \"C:\\Users\\20202300\\AppData\\Local\\anaconda3\\lib\\site-packages\\sklearn\\model_selection\\_validation.py\", line 686, in _fit_and_score\n",
      "    estimator.fit(X_train, y_train, **fit_params)\n",
      "  File \"C:\\Users\\20202300\\AppData\\Local\\anaconda3\\lib\\site-packages\\sklearn\\linear_model\\_logistic.py\", line 1162, in fit\n",
      "    solver = _check_solver(self.solver, self.penalty, self.dual)\n",
      "  File \"C:\\Users\\20202300\\AppData\\Local\\anaconda3\\lib\\site-packages\\sklearn\\linear_model\\_logistic.py\", line 54, in _check_solver\n",
      "    raise ValueError(\n",
      "ValueError: Solver lbfgs supports only 'l2' or 'none' penalties, got l1 penalty.\n",
      "\n",
      "  warnings.warn(some_fits_failed_message, FitFailedWarning)\n",
      "C:\\Users\\20202300\\AppData\\Local\\anaconda3\\lib\\site-packages\\sklearn\\model_selection\\_search.py:952: UserWarning: One or more of the test scores are non-finite: [       nan 0.80094893        nan 0.80666917        nan 0.80379193\n",
      "        nan 0.80347225]\n",
      "  warnings.warn(\n"
     ]
    },
    {
     "name": "stdout",
     "output_type": "stream",
     "text": [
      "Best parameters for Logistic Regression with interactions: {'C': 0.1, 'class_weight': 'balanced', 'penalty': 'l2'}\n",
      "Accuracy (Logistic Regression with interactions): 0.9010922330097088\n",
      "\n",
      "Classification Report (Logistic Regression with interactions):\n",
      "              precision    recall  f1-score   support\n",
      "\n",
      "           0       0.82      0.65      0.73       669\n",
      "           1       0.92      0.96      0.94      2627\n",
      "\n",
      "    accuracy                           0.90      3296\n",
      "   macro avg       0.87      0.81      0.83      3296\n",
      "weighted avg       0.90      0.90      0.90      3296\n",
      "\n"
     ]
    }
   ],
   "source": [
    "#train logistic regression model with interaction effects and grid search optimization\n",
    "param_grid_LR_inter = {\n",
    "    'C': [0.01, 0.1, 1, 10],      \n",
    "    'penalty': ['l1', 'l2'],      \n",
    "    'class_weight': ['balanced']\n",
    "}\n",
    "\n",
    "grid_LR_inter = GridSearchCV(\n",
    "    LogisticRegression(max_iter=1000),\n",
    "    param_grid_LR_inter,\n",
    "    cv=5,\n",
    "    scoring='recall_macro',\n",
    "    n_jobs=-1\n",
    ")\n",
    "\n",
    "#fit the model\n",
    "grid_LR_inter.fit(X_train_inter, y_train)\n",
    "\n",
    "#print best parameters\n",
    "print(\"Best parameters for Logistic Regression with interactions:\", grid_LR_inter.best_params_)\n",
    "\n",
    "#predict target variables of test set\n",
    "y_pred_LR_inter = grid_LR_inter.predict(X_test_inter)\n",
    "\n",
    "#performance of the model: \n",
    "print(\"Accuracy (Logistic Regression with interactions):\", accuracy_score(y_test, y_pred_LR_inter))\n",
    "print(\"\\nClassification Report (Logistic Regression with interactions):\")\n",
    "print(classification_report(y_test, y_pred_LR_inter))"
   ]
  },
  {
   "cell_type": "code",
   "execution_count": 34,
   "id": "14d74cc2",
   "metadata": {
    "colab": {
     "base_uri": "https://localhost:8080/"
    },
    "id": "14d74cc2",
    "outputId": "66ec375e-97d8-45b5-a7b9-321be9fc709c"
   },
   "outputs": [
    {
     "name": "stdout",
     "output_type": "stream",
     "text": [
      "Accuracy Decision Tree: 0.897754854368932\n",
      "\n",
      "Classification Report Decision Tree:\n",
      "              precision    recall  f1-score   support\n",
      "\n",
      "           0       0.80      0.66      0.72       669\n",
      "           1       0.92      0.96      0.94      2627\n",
      "\n",
      "    accuracy                           0.90      3296\n",
      "   macro avg       0.86      0.81      0.83      3296\n",
      "weighted avg       0.89      0.90      0.89      3296\n",
      "\n"
     ]
    }
   ],
   "source": [
    "#train and test a decision tree model\n",
    "model_DT = DecisionTreeClassifier(random_state=40)\n",
    "model_DT.fit(X_train, y_train)\n",
    "\n",
    "#predict target variable of test set\n",
    "y_pred_DT = model_DT.predict(X_test)\n",
    "\n",
    "#performance of the model:\n",
    "print(\"Accuracy Decision Tree:\", accuracy_score(y_test, y_pred_DT))\n",
    "print(\"\\nClassification Report Decision Tree:\")\n",
    "print(classification_report(y_test, y_pred_DT))"
   ]
  },
  {
   "cell_type": "code",
   "execution_count": 35,
   "id": "a4d0b8d4",
   "metadata": {},
   "outputs": [
    {
     "name": "stdout",
     "output_type": "stream",
     "text": [
      "Best parameters for Decision Tree: {'class_weight': None, 'max_depth': 10, 'min_samples_leaf': 2, 'min_samples_split': 2}\n",
      "Accuracy (Grid Search Tuned Decision Tree): 0.9165655339805825\n",
      "\n",
      "Classification Report (Grid Search Tuned Decision Tree):\n",
      "              precision    recall  f1-score   support\n",
      "\n",
      "           0       0.92      0.64      0.76       669\n",
      "           1       0.92      0.99      0.95      2627\n",
      "\n",
      "    accuracy                           0.92      3296\n",
      "   macro avg       0.92      0.82      0.85      3296\n",
      "weighted avg       0.92      0.92      0.91      3296\n",
      "\n"
     ]
    }
   ],
   "source": [
    "#hyperparameter tuning for decision tree using grid search\n",
    "#parameter grid for Decision Tree --> TABLE 6 IN THE REPORT\n",
    "param_grid_DT = {\n",
    "    'max_depth': [3, 5, 10, 20, None],      #control depth of tree\n",
    "    'min_samples_split': [2, 5, 10, 20],    #minimum samples to split\n",
    "    'min_samples_leaf': [1, 2, 5, 10],      #minimum samples per leaf\n",
    "    'class_weight': [None, 'balanced']      #try both balanced and unbalanced model\n",
    "}\n",
    "\n",
    "grid_DT = GridSearchCV(\n",
    "    DecisionTreeClassifier(random_state=40),\n",
    "    param_grid_DT,\n",
    "    cv=5,\n",
    "    scoring='recall_macro',  \n",
    "    n_jobs=-1\n",
    ")\n",
    "\n",
    "#fit the model to find best hyperparameters\n",
    "grid_DT.fit(X_train, y_train)\n",
    "\n",
    "#print best parameters\n",
    "print(\"Best parameters for Decision Tree:\", grid_DT.best_params_)\n",
    "\n",
    "#predict target variable of test set\n",
    "y_pred_DT_tuned = grid_DT.predict(X_test)\n",
    "\n",
    "#model performance; \n",
    "print(\"Accuracy (Grid Search Tuned Decision Tree):\", accuracy_score(y_test, y_pred_DT_tuned))\n",
    "print(\"\\nClassification Report (Grid Search Tuned Decision Tree):\")\n",
    "print(classification_report(y_test, y_pred_DT_tuned))\n"
   ]
  },
  {
   "cell_type": "code",
   "execution_count": 36,
   "id": "747dc7a2",
   "metadata": {},
   "outputs": [
    {
     "name": "stdout",
     "output_type": "stream",
     "text": [
      "\n",
      "--- Decision Tree with threshold = 0.4 ---\n",
      "Accuracy DT with threshold: 0.9217233009708737\n",
      "\n",
      "Classification Report DT with threshold:\n",
      "              precision    recall  f1-score   support\n",
      "\n",
      "           0       0.97      0.64      0.77       669\n",
      "           1       0.91      0.99      0.95      2627\n",
      "\n",
      "    accuracy                           0.92      3296\n",
      "   macro avg       0.94      0.81      0.86      3296\n",
      "weighted avg       0.93      0.92      0.92      3296\n",
      "\n"
     ]
    }
   ],
   "source": [
    "#threshold calibration for Decision Tree (Tuned)\n",
    "y_pred_proba_DT = grid_DT.predict_proba(X_test)[:, 1]\n",
    "\n",
    "#lower the threshold\n",
    "threshold_DT = 0.4\n",
    "\n",
    "#apply threshold\n",
    "y_pred_DT_threshold = (y_pred_proba_DT >= threshold_DT).astype(int)\n",
    "\n",
    "#model performance\n",
    "print(f\"\\n--- Decision Tree with threshold = {threshold_DT} ---\")\n",
    "print(\"Accuracy DT with threshold:\", accuracy_score(y_test, y_pred_DT_threshold))\n",
    "print(\"\\nClassification Report DT with threshold:\")\n",
    "print(classification_report(y_test, y_pred_DT_threshold))"
   ]
  },
  {
   "cell_type": "code",
   "execution_count": 37,
   "id": "8f9c91f4",
   "metadata": {
    "colab": {
     "base_uri": "https://localhost:8080/"
    },
    "id": "8f9c91f4",
    "outputId": "0a083aab-e723-444c-85a1-7ef18502f0d3"
   },
   "outputs": [
    {
     "name": "stdout",
     "output_type": "stream",
     "text": [
      "Accuracy Random Forest: 0.9144417475728155\n",
      "\n",
      "Classification Report Random Forest:\n",
      "              precision    recall  f1-score   support\n",
      "\n",
      "           0       0.91      0.64      0.75       669\n",
      "           1       0.91      0.98      0.95      2627\n",
      "\n",
      "    accuracy                           0.91      3296\n",
      "   macro avg       0.91      0.81      0.85      3296\n",
      "weighted avg       0.91      0.91      0.91      3296\n",
      "\n"
     ]
    }
   ],
   "source": [
    "#train and test a random forest algorithm\n",
    "model_RF = RandomForestClassifier(n_estimators=100, random_state=40)\n",
    "model_RF.fit(X_train, y_train)\n",
    "\n",
    "#predict target variable of test set\n",
    "y_pred_RF = model_RF.predict(X_test)\n",
    "\n",
    "#model performance\n",
    "print(\"Accuracy Random Forest:\", accuracy_score(y_test, y_pred_RF))\n",
    "print(\"\\nClassification Report Random Forest:\")\n",
    "print(classification_report(y_test, y_pred_RF))"
   ]
  },
  {
   "cell_type": "code",
   "execution_count": 38,
   "id": "73b558b4",
   "metadata": {},
   "outputs": [
    {
     "name": "stdout",
     "output_type": "stream",
     "text": [
      "Best parameters for Random Forest (Medium Grid): {'class_weight': 'balanced', 'max_depth': 10, 'max_features': 'sqrt', 'min_samples_leaf': 2, 'min_samples_split': 5, 'n_estimators': 200}\n",
      "Accuracy (Tuned Random Forest - Medium Grid): 0.9195995145631068\n",
      "\n",
      "Classification Report (Tuned Random Forest - Medium Grid):\n",
      "              precision    recall  f1-score   support\n",
      "\n",
      "           0       0.94      0.65      0.77       669\n",
      "           1       0.92      0.99      0.95      2627\n",
      "\n",
      "    accuracy                           0.92      3296\n",
      "   macro avg       0.93      0.82      0.86      3296\n",
      "weighted avg       0.92      0.92      0.91      3296\n",
      "\n"
     ]
    }
   ],
   "source": [
    "#HYPERPARAMETER TUNING for random forest using grid search --> TABLE 7 IN THE REPORT\n",
    "param_grid_RF_medium = {\n",
    "    'n_estimators': [100, 200],          #nr of estimators used\n",
    "    'max_depth': [10, 20, None],         #depth of trees\n",
    "    'min_samples_split': [2, 5],         #minimum samples in each split\n",
    "    'min_samples_leaf': [1, 2],          #minimum samples in each leaf\n",
    "    'max_features': ['sqrt', 'log2'],    \n",
    "    'class_weight': ['balanced']         #again, balanced model\n",
    "}\n",
    "\n",
    "grid_RF_medium = GridSearchCV(\n",
    "    RandomForestClassifier(random_state=40),\n",
    "    param_grid_RF_medium,\n",
    "    cv=5,\n",
    "    scoring='recall_macro', \n",
    "    n_jobs=-1\n",
    ")\n",
    "\n",
    "#fit model to find best hyperparameters\n",
    "grid_RF_medium.fit(X_train, y_train)\n",
    "\n",
    "#print best hyperparameters\n",
    "print(\"Best parameters for Random Forest (Medium Grid):\", grid_RF_medium.best_params_)\n",
    "\n",
    "#predict target variable of test set\n",
    "y_pred_RF_tuned_medium = grid_RF_medium.predict(X_test)\n",
    "\n",
    "#model performance\n",
    "print(\"Accuracy (Tuned Random Forest - Medium Grid):\", accuracy_score(y_test, y_pred_RF_tuned_medium))\n",
    "print(\"\\nClassification Report (Tuned Random Forest - Medium Grid):\")\n",
    "print(classification_report(y_test, y_pred_RF_tuned_medium))"
   ]
  },
  {
   "cell_type": "code",
   "execution_count": 39,
   "id": "3cd1a8fd",
   "metadata": {},
   "outputs": [
    {
     "name": "stdout",
     "output_type": "stream",
     "text": [
      "\n",
      "--- Random Forest with threshold = 0.4 ---\n",
      "Accuracy: 0.9223300970873787\n",
      "\n",
      "Classification Report:\n",
      "              precision    recall  f1-score   support\n",
      "\n",
      "           0       0.96      0.64      0.77       669\n",
      "           1       0.92      0.99      0.95      2627\n",
      "\n",
      "    accuracy                           0.92      3296\n",
      "   macro avg       0.94      0.82      0.86      3296\n",
      "weighted avg       0.93      0.92      0.92      3296\n",
      "\n"
     ]
    }
   ],
   "source": [
    "#threshold adjustment\n",
    "y_pred_proba_RF = grid_RF_medium.predict_proba(X_test)[:, 1]\n",
    "\n",
    "#lower threshold\n",
    "threshold = 0.4  \n",
    "\n",
    "#apply threshold\n",
    "y_pred_RF_threshold = (y_pred_proba_RF >= threshold).astype(int)\n",
    "\n",
    "#model performance\n",
    "print(f\"\\n--- Random Forest with threshold = {threshold} ---\")\n",
    "print(\"Accuracy:\", accuracy_score(y_test, y_pred_RF_threshold))\n",
    "print(\"\\nClassification Report:\")\n",
    "print(classification_report(y_test, y_pred_RF_threshold))"
   ]
  },
  {
   "cell_type": "code",
   "execution_count": 40,
   "id": "qcXD44J5CURq",
   "metadata": {
    "colab": {
     "base_uri": "https://localhost:8080/",
     "height": 436
    },
    "id": "qcXD44J5CURq",
    "outputId": "daff2ce4-e1da-4753-aff4-cece507b2206"
   },
   "outputs": [
    {
     "data": {
      "text/html": [
       "<div>\n",
       "<style scoped>\n",
       "    .dataframe tbody tr th:only-of-type {\n",
       "        vertical-align: middle;\n",
       "    }\n",
       "\n",
       "    .dataframe tbody tr th {\n",
       "        vertical-align: top;\n",
       "    }\n",
       "\n",
       "    .dataframe thead th {\n",
       "        text-align: right;\n",
       "    }\n",
       "</style>\n",
       "<table border=\"1\" class=\"dataframe\">\n",
       "  <thead>\n",
       "    <tr style=\"text-align: right;\">\n",
       "      <th></th>\n",
       "      <th>Model</th>\n",
       "      <th>Class 0 Recall</th>\n",
       "      <th>Class 0 Precision</th>\n",
       "      <th>Class 1 Recall</th>\n",
       "      <th>Class 1 Precision</th>\n",
       "      <th>Accuracy</th>\n",
       "    </tr>\n",
       "  </thead>\n",
       "  <tbody>\n",
       "    <tr>\n",
       "      <th>4</th>\n",
       "      <td>LR + Interactions</td>\n",
       "      <td>0.653214</td>\n",
       "      <td>0.822976</td>\n",
       "      <td>0.964218</td>\n",
       "      <td>0.916094</td>\n",
       "      <td>0.901092</td>\n",
       "    </tr>\n",
       "    <tr>\n",
       "      <th>7</th>\n",
       "      <td>Tuned RF</td>\n",
       "      <td>0.648729</td>\n",
       "      <td>0.935345</td>\n",
       "      <td>0.988580</td>\n",
       "      <td>0.917020</td>\n",
       "      <td>0.919600</td>\n",
       "    </tr>\n",
       "    <tr>\n",
       "      <th>5</th>\n",
       "      <td>Tuned DT</td>\n",
       "      <td>0.644245</td>\n",
       "      <td>0.920940</td>\n",
       "      <td>0.985915</td>\n",
       "      <td>0.915842</td>\n",
       "      <td>0.916566</td>\n",
       "    </tr>\n",
       "    <tr>\n",
       "      <th>8</th>\n",
       "      <td>Tuned RF + threshold</td>\n",
       "      <td>0.641256</td>\n",
       "      <td>0.964045</td>\n",
       "      <td>0.993909</td>\n",
       "      <td>0.915819</td>\n",
       "      <td>0.922330</td>\n",
       "    </tr>\n",
       "    <tr>\n",
       "      <th>1</th>\n",
       "      <td>Balanced LR</td>\n",
       "      <td>0.638266</td>\n",
       "      <td>0.891441</td>\n",
       "      <td>0.980206</td>\n",
       "      <td>0.914093</td>\n",
       "      <td>0.910801</td>\n",
       "    </tr>\n",
       "    <tr>\n",
       "      <th>2</th>\n",
       "      <td>Tuned LR</td>\n",
       "      <td>0.638266</td>\n",
       "      <td>0.887734</td>\n",
       "      <td>0.979444</td>\n",
       "      <td>0.914032</td>\n",
       "      <td>0.910194</td>\n",
       "    </tr>\n",
       "    <tr>\n",
       "      <th>6</th>\n",
       "      <td>Tuned DT + threshold</td>\n",
       "      <td>0.635277</td>\n",
       "      <td>0.968109</td>\n",
       "      <td>0.994671</td>\n",
       "      <td>0.914596</td>\n",
       "      <td>0.921723</td>\n",
       "    </tr>\n",
       "    <tr>\n",
       "      <th>3</th>\n",
       "      <td>Tuned LR + threshold</td>\n",
       "      <td>0.590433</td>\n",
       "      <td>0.972906</td>\n",
       "      <td>0.995813</td>\n",
       "      <td>0.905190</td>\n",
       "      <td>0.913532</td>\n",
       "    </tr>\n",
       "    <tr>\n",
       "      <th>0</th>\n",
       "      <td>Unbalanced LR</td>\n",
       "      <td>0.587444</td>\n",
       "      <td>1.000000</td>\n",
       "      <td>1.000000</td>\n",
       "      <td>0.904926</td>\n",
       "      <td>0.916262</td>\n",
       "    </tr>\n",
       "  </tbody>\n",
       "</table>\n",
       "</div>"
      ],
      "text/plain": [
       "                  Model  Class 0 Recall  Class 0 Precision  Class 1 Recall  \\\n",
       "4     LR + Interactions        0.653214           0.822976        0.964218   \n",
       "7              Tuned RF        0.648729           0.935345        0.988580   \n",
       "5              Tuned DT        0.644245           0.920940        0.985915   \n",
       "8  Tuned RF + threshold        0.641256           0.964045        0.993909   \n",
       "1           Balanced LR        0.638266           0.891441        0.980206   \n",
       "2              Tuned LR        0.638266           0.887734        0.979444   \n",
       "6  Tuned DT + threshold        0.635277           0.968109        0.994671   \n",
       "3  Tuned LR + threshold        0.590433           0.972906        0.995813   \n",
       "0         Unbalanced LR        0.587444           1.000000        1.000000   \n",
       "\n",
       "   Class 1 Precision  Accuracy  \n",
       "4           0.916094  0.901092  \n",
       "7           0.917020  0.919600  \n",
       "5           0.915842  0.916566  \n",
       "8           0.915819  0.922330  \n",
       "1           0.914093  0.910801  \n",
       "2           0.914032  0.910194  \n",
       "6           0.914596  0.921723  \n",
       "3           0.905190  0.913532  \n",
       "0           0.904926  0.916262  "
      ]
     },
     "execution_count": 40,
     "metadata": {},
     "output_type": "execute_result"
    }
   ],
   "source": [
    "#below, a table is created with the performances of each model\n",
    "#create empty list to store results\n",
    "results = []\n",
    "\n",
    "#create function to calculate the performance metrics for the different models\n",
    "def add_model_results(model_name, y_true, y_pred):\n",
    "    recall_0 = recall_score(y_true, y_pred, pos_label=0)\n",
    "    precision_0 = precision_score(y_true, y_pred, pos_label=0)\n",
    "    recall_1 = recall_score(y_true, y_pred, pos_label=1)\n",
    "    precision_1 = precision_score(y_true, y_pred, pos_label=1)\n",
    "    accuracy = accuracy_score(y_true, y_pred)\n",
    "\n",
    "    results.append({\n",
    "        'Model': model_name,\n",
    "        'Class 0 Recall': recall_0,\n",
    "        'Class 0 Precision': precision_0,\n",
    "        'Class 1 Recall': recall_1,\n",
    "        'Class 1 Precision': precision_1,\n",
    "        'Accuracy': accuracy\n",
    "    })\n",
    "\n",
    "\n",
    "#Logistic Regression\n",
    "add_model_results('Unbalanced LR', y_test, y_pred_LR_unbalanced)\n",
    "add_model_results('Balanced LR', y_test, y_pred_LR_balanced)\n",
    "add_model_results('Tuned LR', y_test, y_pred_LR_tuned)\n",
    "add_model_results('Tuned LR + threshold', y_test, y_pred_LR_threshold)\n",
    "add_model_results('LR + Interactions', y_test, y_pred_LR_inter)\n",
    "\n",
    "\n",
    "#Decision Tree\n",
    "add_model_results('Tuned DT', y_test, y_pred_DT_tuned)\n",
    "add_model_results('Tuned DT + threshold', y_test, y_pred_DT_threshold)\n",
    "\n",
    "#Random Forest\n",
    "add_model_results('Tuned RF', y_test, y_pred_RF_tuned_medium)\n",
    "add_model_results('Tuned RF + threshold', y_test, y_pred_RF_threshold)\n",
    "\n",
    "#create pandas dataframe\n",
    "df_results = pd.DataFrame(results)\n",
    "\n",
    "#display table sorted by Class 0 Recall --> TABLE 8 in report\n",
    "df_results.sort_values(by='Class 0 Recall', ascending=False)\n"
   ]
  },
  {
   "cell_type": "code",
   "execution_count": 47,
   "id": "skWSXKEJMnm4",
   "metadata": {
    "colab": {
     "base_uri": "https://localhost:8080/",
     "height": 515
    },
    "id": "skWSXKEJMnm4",
    "outputId": "5f646e82-e8e2-4561-ab75-4961d7eec8b7"
   },
   "outputs": [
    {
     "data": {
      "image/png": "[encoded data removed]",
      "text/plain": [
       "<Figure size 800x600 with 1 Axes>"
      ]
     },
     "metadata": {},
     "output_type": "display_data"
    },
    {
     "data": {
      "text/plain": [
       "<Figure size 640x480 with 0 Axes>"
      ]
     },
     "metadata": {},
     "output_type": "display_data"
    }
   ],
   "source": [
    "#create ROC curves and calculate AUCs for visualization in report --> FIGURE [X] in report\n",
    "fpr_LR, tpr_LR, _ = roc_curve(y_test, y_pred_proba_LR)\n",
    "roc_auc_LR = auc(fpr_LR, tpr_LR)\n",
    "\n",
    "fpr_LR_inter, tpr_LR_inter, _ = roc_curve(y_test, y_pred_LR_inter)\n",
    "roc_auc_LR_inter = auc(fpr_LR_inter, tpr_LR_inter)\n",
    "\n",
    "fpr_DT, tpr_DT, _ = roc_curve(y_test, y_pred_proba_DT)\n",
    "roc_auc_DT = auc(fpr_DT, tpr_DT)\n",
    "\n",
    "fpr_RF, tpr_RF, _ = roc_curve(y_test, y_pred_proba_RF)\n",
    "roc_auc_RF = auc(fpr_RF, tpr_RF)\n",
    "\n",
    "#plot the different ROC curves into one figure --> FIGURE 8 IN THE REPORT\n",
    "plt.figure(figsize=(8, 6))\n",
    "\n",
    "plt.plot(fpr_LR, tpr_LR, label=f'Tuned LR (AUC = {roc_auc_LR:.2f})')\n",
    "plt.plot(fpr_LR_inter, tpr_LR_inter, label=f'LR + Interactions (AUC = {roc_auc_LR_inter:.2f})')\n",
    "plt.plot(fpr_DT, tpr_DT, label=f'Tuned Decision Tree (AUC = {roc_auc_DT:.2f})')\n",
    "plt.plot(fpr_RF, tpr_RF, label=f'Tuned Random Forest (AUC = {roc_auc_RF:.2f})')\n",
    "\n",
    "plt.plot([0, 1], [0, 1], 'k--', label='Chance')\n",
    "\n",
    "plt.xlabel('False Positive Rate')\n",
    "plt.ylabel('True Positive Rate')\n",
    "plt.title('ROC Curve Comparison')\n",
    "plt.legend(loc='lower right')\n",
    "plt.grid()\n",
    "plt.show()\n",
    "\n",
    "plt.savefig('ROC curve comparison.jpg')"
   ]
  },
  {
   "cell_type": "code",
   "execution_count": 44,
   "id": "vPaY5RGIRESf",
   "metadata": {
    "colab": {
     "base_uri": "https://localhost:8080/",
     "height": 509
    },
    "id": "vPaY5RGIRESf",
    "outputId": "e172b904-84f0-4af3-8a4d-c54e1b00dcb6"
   },
   "outputs": [
    {
     "data": {
      "image/png": "[encoded data removed]",
      "text/plain": [
       "<Figure size 800x600 with 1 Axes>"
      ]
     },
     "metadata": {},
     "output_type": "display_data"
    },
    {
     "data": {
      "text/plain": [
       "<Figure size 640x480 with 0 Axes>"
      ]
     },
     "metadata": {},
     "output_type": "display_data"
    }
   ],
   "source": [
    "#compute precision-recall curves and average precision scores (area under PR curve) --> FIGURE [X] in report\n",
    "precision_LR, recall_LR, _ = precision_recall_curve(y_test, y_pred_proba_LR)\n",
    "ap_LR = average_precision_score(y_test, y_pred_proba_LR)\n",
    "\n",
    "precision_LR_inter, recall_LR_inter, _ = precision_recall_curve(y_test, y_pred_LR_inter)\n",
    "ap_LR_inter = average_precision_score(y_test, y_pred_LR_inter)\n",
    "\n",
    "precision_DT, recall_DT, _ = precision_recall_curve(y_test, y_pred_proba_DT)\n",
    "ap_DT = average_precision_score(y_test, y_pred_proba_DT)\n",
    "\n",
    "precision_RF, recall_RF, _ = precision_recall_curve(y_test, y_pred_proba_RF)\n",
    "ap_RF = average_precision_score(y_test, y_pred_proba_RF)\n",
    "\n",
    "\n",
    "# Plot PR curves --> FIGURE 7 IN THE REPORT\n",
    "plt.figure(figsize=(8, 6))\n",
    "\n",
    "plt.plot(recall_LR, precision_LR, label=f'Tuned LR (AP = {ap_LR:.2f})')\n",
    "plt.plot(recall_LR_inter, precision_LR_inter, label=f'LR + Interactions (AP = {ap_LR_inter:.2f})')\n",
    "plt.plot(recall_DT, precision_DT, label=f'Tuned Decision Tree (AP = {ap_DT:.2f})')\n",
    "plt.plot(recall_RF, precision_RF, label=f'Tuned Random Forest (AP = {ap_RF:.2f})')\n",
    "\n",
    "plt.xlabel('Recall')\n",
    "plt.ylabel('Precision')\n",
    "plt.title('Precision-Recall Curve Comparison')\n",
    "plt.legend(loc='lower left')\n",
    "plt.grid()\n",
    "plt.show()\n",
    "\n",
    "plt.savefig('precision-recall curve comparison.png')"
   ]
  },
  {
   "cell_type": "code",
   "execution_count": 45,
   "id": "60aad10f",
   "metadata": {},
   "outputs": [
    {
     "data": {
      "image/png": "[encoded data removed]",
      "text/plain": [
       "<Figure size 800x600 with 1 Axes>"
      ]
     },
     "metadata": {},
     "output_type": "display_data"
    }
   ],
   "source": [
    "#get feature importances from tuned Decision Tree for comparison to Random Forest --> FIGURE [X] in report\n",
    "importances_DT = grid_DT.best_estimator_.feature_importances_\n",
    "#sort the importances \n",
    "indices = np.argsort(importances_DT)[::-1]\n",
    "\n",
    "#FIGURE 5 IN THE REPORT\n",
    "plt.figure(figsize=(8, 6))\n",
    "plt.title(\"Decision Tree Feature Importance (Top 10)\")\n",
    "bars = plt.bar(range(10), importances_DT[indices][:10], align='center')\n",
    "plt.xticks(range(10), [column_names[i] for i in indices[:10]], rotation=45, ha='right')\n",
    "plt.ylabel('Importance')\n",
    "\n",
    "#add exact values on bars\n",
    "for bar in bars:\n",
    "    yval = bar.get_height()\n",
    "    plt.text(bar.get_x() + bar.get_width()/2.0, yval + 0.01, f'{yval:.2f}', ha='center', va='bottom')\n",
    "\n",
    "plt.savefig('decision tree feature importance (top 10).png')"
   ]
  },
  {
   "cell_type": "code",
   "execution_count": 46,
   "id": "8_cXBT2wY4Ca",
   "metadata": {
    "colab": {
     "base_uri": "https://localhost:8080/",
     "height": 487
    },
    "id": "8_cXBT2wY4Ca",
    "outputId": "eb43514e-0c26-45fc-962f-a5480a65d7d9"
   },
   "outputs": [
    {
     "data": {
      "image/png": "[encoded data removed]",
      "text/plain": [
       "<Figure size 800x600 with 1 Axes>"
      ]
     },
     "metadata": {},
     "output_type": "display_data"
    }
   ],
   "source": [
    "#get feature importances from tuned Random Forest\n",
    "importances_RF = grid_RF_medium.best_estimator_.feature_importances_\n",
    "#sort importances\n",
    "indices = np.argsort(importances_RF)[::-1]\n",
    "\n",
    "#FIGURE 6 IN THE REPORT\n",
    "plt.figure(figsize=(8, 6))\n",
    "plt.title(\"Random Forest Feature Importance (Top 10)\")\n",
    "bars = plt.bar(range(10), importances_RF[indices][:10], align='center')\n",
    "plt.xticks(range(10), [column_names[i] for i in indices[:10]], rotation=45, ha='right')\n",
    "plt.ylabel('Importance')\n",
    "\n",
    "# Add exact values on bars\n",
    "for bar in bars:\n",
    "    yval = bar.get_height()\n",
    "    plt.text(bar.get_x() + bar.get_width()/2.0, yval + 0.01, f'{yval:.2f}', ha='center', va='bottom')\n",
    "\n",
    "plt.savefig('random forest feature importance (top 10).png')\n"
   ]
  }
 ],
 "metadata": {
  "colab": {
   "provenance": []
  },
  "kernelspec": {
   "display_name": "Python 3 (ipykernel)",
   "language": "python",
   "name": "python3"
  },
  "language_info": {
   "codemirror_mode": {
    "name": "ipython",
    "version": 3
   },
   "file_extension": ".py",
   "mimetype": "text/x-python",
   "name": "python",
   "nbconvert_exporter": "python",
   "pygments_lexer": "ipython3",
   "version": "3.10.9"
  }
 },
 "nbformat": 4,
 "nbformat_minor": 5
}
