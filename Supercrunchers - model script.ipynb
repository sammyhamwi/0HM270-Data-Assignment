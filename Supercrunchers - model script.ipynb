{
 "cells": [
  {
   "cell_type": "code",
   "execution_count": 1,
   "id": "9858214c",
   "metadata": {},
   "outputs": [],
   "source": [
    "import pandas as pd\n",
    "from sklearn.model_selection import train_test_split\n",
    "from sklearn.tree import DecisionTreeClassifier\n",
    "from sklearn.metrics import classification_report, accuracy_score\n",
    "from sklearn.ensemble import RandomForestClassifier\n",
    "import matplotlib.pyplot as plt\n",
    "from sklearn.linear_model import LogisticRegression\n",
    "from sklearn.preprocessing import StandardScaler\n",
    "import seaborn as sns\n",
    "from scipy import stats\n",
    "import numpy as np\n",
    "from sklearn.metrics import roc_curve, auc\n",
    "import matplotlib.pyplot as plt"
   ]
  },
  {
   "cell_type": "code",
   "execution_count": 2,
   "id": "9df5b0cd",
   "metadata": {},
   "outputs": [],
   "source": [
    "#load dataset\n",
    "filename = 'filtered_rechtspraak_en.csv'  \n",
    "law_dataset = pd.read_csv(filename)\n",
    "\n",
    "#add age variable\n",
    "law_dataset['age'] = 2024 - law_dataset['geboren']"
   ]
  },
  {
   "cell_type": "code",
   "execution_count": 3,
   "id": "3d72ba31",
   "metadata": {},
   "outputs": [
    {
     "name": "stdout",
     "output_type": "stream",
     "text": [
      "                  id       geboren  commasinjurors   aantalzaken  \\\n",
      "count   15579.000000  15579.000000    14076.000000  15579.000000   \n",
      "mean    58869.691765   1989.609474        1.868713      1.610566   \n",
      "std     42490.740716    173.679089        0.489563      5.367926   \n",
      "min        13.000000      0.000000        0.000000      0.000000   \n",
      "25%     23249.000000   1972.000000        2.000000      0.000000   \n",
      "50%     49902.000000   1985.000000        2.000000      0.000000   \n",
      "75%     89587.000000   1995.000000        2.000000      3.000000   \n",
      "max    141872.000000   9303.000000        7.000000    435.000000   \n",
      "\n",
      "          is_guilty  plural_court  jailsentence           age  \n",
      "count  15579.000000  15579.000000  15579.000000  15579.000000  \n",
      "mean       0.743308      0.953656      0.755183     34.390526  \n",
      "std        0.436822      0.210237      0.429992    173.679089  \n",
      "min        0.000000      0.000000      0.000000  -7279.000000  \n",
      "25%        0.000000      1.000000      1.000000     29.000000  \n",
      "50%        1.000000      1.000000      1.000000     39.000000  \n",
      "75%        1.000000      1.000000      1.000000     52.000000  \n",
      "max        1.000000      1.000000      1.000000   2024.000000  \n"
     ]
    }
   ],
   "source": [
    "sum_table = law_dataset.describe()\n",
    "print(sum_table)"
   ]
  },
  {
   "cell_type": "code",
   "execution_count": 4,
   "id": "0d0287e8",
   "metadata": {},
   "outputs": [
    {
     "data": {
      "text/html": [
       "<div>\n",
       "<style scoped>\n",
       "    .dataframe tbody tr th:only-of-type {\n",
       "        vertical-align: middle;\n",
       "    }\n",
       "\n",
       "    .dataframe tbody tr th {\n",
       "        vertical-align: top;\n",
       "    }\n",
       "\n",
       "    .dataframe thead th {\n",
       "        text-align: right;\n",
       "    }\n",
       "</style>\n",
       "<table border=\"1\" class=\"dataframe\">\n",
       "  <thead>\n",
       "    <tr style=\"text-align: right;\">\n",
       "      <th></th>\n",
       "      <th>id</th>\n",
       "      <th>urlshort</th>\n",
       "      <th>verdachte</th>\n",
       "      <th>geboren</th>\n",
       "      <th>beslissing</th>\n",
       "      <th>strafmaat</th>\n",
       "      <th>zittingsplaats</th>\n",
       "      <th>namenvandejuryleden</th>\n",
       "      <th>commasinjurors</th>\n",
       "      <th>aantalzaken</th>\n",
       "      <th>is_guilty</th>\n",
       "      <th>plural_court</th>\n",
       "      <th>jailsentence</th>\n",
       "      <th>verdachte_en</th>\n",
       "      <th>beslissing_en</th>\n",
       "      <th>strafmaat_en</th>\n",
       "      <th>age</th>\n",
       "    </tr>\n",
       "  </thead>\n",
       "  <tbody>\n",
       "    <tr>\n",
       "      <th>0</th>\n",
       "      <td>13</td>\n",
       "      <td>RBMNE:2024:2414&amp;showbutton=true</td>\n",
       "      <td>geboren op [1987] te [geboorteplaats] , wonend...</td>\n",
       "      <td>1987</td>\n",
       "      <td>De rechtbank: Bewezenverklaring - verklaart he...</td>\n",
       "      <td>4 (vier) jaar/ proeftijd van 5 (vijf) jaar vas...</td>\n",
       "      <td>Lelystad</td>\n",
       "      <td>J.W.B. Snijders Blok, R.P.P. Hoekstra, A.M. Loots</td>\n",
       "      <td>2.0</td>\n",
       "      <td>3</td>\n",
       "      <td>1</td>\n",
       "      <td>1</td>\n",
       "      <td>1</td>\n",
       "      <td>born [1987] at [birthplace] , residing at [add...</td>\n",
       "      <td>The court: Provenance - declares that the defe...</td>\n",
       "      <td>4 (four) year/ probationary period of 5 (five)...</td>\n",
       "      <td>37</td>\n",
       "    </tr>\n",
       "    <tr>\n",
       "      <th>1</th>\n",
       "      <td>16</td>\n",
       "      <td>RBMNE:2024:2381&amp;showbutton=true</td>\n",
       "      <td>geboren op [geboortedatum 1] 1979 te [geboorte...</td>\n",
       "      <td>1979</td>\n",
       "      <td>De rechtbank: Vrijspraak  verklaart het onder...</td>\n",
       "      <td>2, 3 en 5/ 360 dagen/ 87 dagen/ Bijlage I: de ...</td>\n",
       "      <td>Utrecht</td>\n",
       "      <td>H.A. Brouwer, J. Edgar, L.C. Michon</td>\n",
       "      <td>2.0</td>\n",
       "      <td>5</td>\n",
       "      <td>1</td>\n",
       "      <td>1</td>\n",
       "      <td>1</td>\n",
       "      <td>born on [birth date 1] 1979 at [birthplace 1] ...</td>\n",
       "      <td>The court: An acquittal shall not prove the ac...</td>\n",
       "      <td>2, 3 and 5/ 360 days/ 87 days/ Annex I: The ch...</td>\n",
       "      <td>45</td>\n",
       "    </tr>\n",
       "    <tr>\n",
       "      <th>2</th>\n",
       "      <td>17</td>\n",
       "      <td>RBZWB:2024:2543&amp;showbutton=true</td>\n",
       "      <td>geboren op [geboortedag 1] 1989 te [geboortepl...</td>\n",
       "      <td>1989</td>\n",
       "      <td>De rechtbank: Bewezenverklaring - verklaart he...</td>\n",
       "      <td>een gevangenisstraf van zeven maanden, waarvan...</td>\n",
       "      <td>Breda</td>\n",
       "      <td>K. Verschueren, W.A.H.A. Schnitzler-Strijbos, ...</td>\n",
       "      <td>2.0</td>\n",
       "      <td>4</td>\n",
       "      <td>1</td>\n",
       "      <td>1</td>\n",
       "      <td>1</td>\n",
       "      <td>born on [birthday 1] 1989 at [birthplace 1] re...</td>\n",
       "      <td>The court: Prove - declares the evidence indic...</td>\n",
       "      <td>a sentence of seven months, of which three mon...</td>\n",
       "      <td>35</td>\n",
       "    </tr>\n",
       "    <tr>\n",
       "      <th>3</th>\n",
       "      <td>18</td>\n",
       "      <td>RBZWB:2024:2544&amp;showbutton=true</td>\n",
       "      <td>geboren op [geboortedag] 1987, te [geboortepla...</td>\n",
       "      <td>1987</td>\n",
       "      <td>De rechtbank: Vrijspraak: - spreekt verdachte ...</td>\n",
       "      <td>betaling van een geldboete van € 1.500,=/ verv...</td>\n",
       "      <td>Breda</td>\n",
       "      <td>M.E.I. Beudeker, M. van de Wetering, D.S.G. Fr...</td>\n",
       "      <td>2.0</td>\n",
       "      <td>4</td>\n",
       "      <td>1</td>\n",
       "      <td>1</td>\n",
       "      <td>1</td>\n",
       "      <td>born on [birthday] 1987, at [birthplace] , wit...</td>\n",
       "      <td>The court: Acquittal: - exonerates suspect fro...</td>\n",
       "      <td>payment of a fine of €1,500,=/ replacement det...</td>\n",
       "      <td>37</td>\n",
       "    </tr>\n",
       "    <tr>\n",
       "      <th>4</th>\n",
       "      <td>20</td>\n",
       "      <td>RBZWB:2024:2547&amp;showbutton=true</td>\n",
       "      <td>, geboren op [geboortedag] 1980, te [geboortep...</td>\n",
       "      <td>1980</td>\n",
       "      <td>De rechtbank: Vrijspraak - spreekt verdachte v...</td>\n",
       "      <td>spreekt verdachte vrij/ [benadeelde 3] , [bena...</td>\n",
       "      <td>Breda</td>\n",
       "      <td>D.L.J. Martens, M.E.I. Beudeker, F.L. Donders</td>\n",
       "      <td>2.0</td>\n",
       "      <td>0</td>\n",
       "      <td>0</td>\n",
       "      <td>1</td>\n",
       "      <td>0</td>\n",
       "      <td>, born [birthday] 1980, born [birthplace] , re...</td>\n",
       "      <td>The court: Acquittal - exonerates suspect from...</td>\n",
       "      <td>exonerates suspect/ [disadvantaged 3] , [disad...</td>\n",
       "      <td>44</td>\n",
       "    </tr>\n",
       "  </tbody>\n",
       "</table>\n",
       "</div>"
      ],
      "text/plain": [
       "   id                         urlshort  \\\n",
       "0  13  RBMNE:2024:2414&showbutton=true   \n",
       "1  16  RBMNE:2024:2381&showbutton=true   \n",
       "2  17  RBZWB:2024:2543&showbutton=true   \n",
       "3  18  RBZWB:2024:2544&showbutton=true   \n",
       "4  20  RBZWB:2024:2547&showbutton=true   \n",
       "\n",
       "                                           verdachte  geboren  \\\n",
       "0  geboren op [1987] te [geboorteplaats] , wonend...     1987   \n",
       "1  geboren op [geboortedatum 1] 1979 te [geboorte...     1979   \n",
       "2  geboren op [geboortedag 1] 1989 te [geboortepl...     1989   \n",
       "3  geboren op [geboortedag] 1987, te [geboortepla...     1987   \n",
       "4  , geboren op [geboortedag] 1980, te [geboortep...     1980   \n",
       "\n",
       "                                          beslissing  \\\n",
       "0  De rechtbank: Bewezenverklaring - verklaart he...   \n",
       "1  De rechtbank: Vrijspraak  verklaart het onder...   \n",
       "2  De rechtbank: Bewezenverklaring - verklaart he...   \n",
       "3  De rechtbank: Vrijspraak: - spreekt verdachte ...   \n",
       "4  De rechtbank: Vrijspraak - spreekt verdachte v...   \n",
       "\n",
       "                                           strafmaat zittingsplaats  \\\n",
       "0  4 (vier) jaar/ proeftijd van 5 (vijf) jaar vas...       Lelystad   \n",
       "1  2, 3 en 5/ 360 dagen/ 87 dagen/ Bijlage I: de ...        Utrecht   \n",
       "2  een gevangenisstraf van zeven maanden, waarvan...          Breda   \n",
       "3  betaling van een geldboete van € 1.500,=/ verv...          Breda   \n",
       "4  spreekt verdachte vrij/ [benadeelde 3] , [bena...          Breda   \n",
       "\n",
       "                                 namenvandejuryleden  commasinjurors  \\\n",
       "0  J.W.B. Snijders Blok, R.P.P. Hoekstra, A.M. Loots             2.0   \n",
       "1                H.A. Brouwer, J. Edgar, L.C. Michon             2.0   \n",
       "2  K. Verschueren, W.A.H.A. Schnitzler-Strijbos, ...             2.0   \n",
       "3  M.E.I. Beudeker, M. van de Wetering, D.S.G. Fr...             2.0   \n",
       "4      D.L.J. Martens, M.E.I. Beudeker, F.L. Donders             2.0   \n",
       "\n",
       "   aantalzaken  is_guilty  plural_court  jailsentence  \\\n",
       "0            3          1             1             1   \n",
       "1            5          1             1             1   \n",
       "2            4          1             1             1   \n",
       "3            4          1             1             1   \n",
       "4            0          0             1             0   \n",
       "\n",
       "                                        verdachte_en  \\\n",
       "0  born [1987] at [birthplace] , residing at [add...   \n",
       "1  born on [birth date 1] 1979 at [birthplace 1] ...   \n",
       "2  born on [birthday 1] 1989 at [birthplace 1] re...   \n",
       "3  born on [birthday] 1987, at [birthplace] , wit...   \n",
       "4  , born [birthday] 1980, born [birthplace] , re...   \n",
       "\n",
       "                                       beslissing_en  \\\n",
       "0  The court: Provenance - declares that the defe...   \n",
       "1  The court: An acquittal shall not prove the ac...   \n",
       "2  The court: Prove - declares the evidence indic...   \n",
       "3  The court: Acquittal: - exonerates suspect fro...   \n",
       "4  The court: Acquittal - exonerates suspect from...   \n",
       "\n",
       "                                        strafmaat_en  age  \n",
       "0  4 (four) year/ probationary period of 5 (five)...   37  \n",
       "1  2, 3 and 5/ 360 days/ 87 days/ Annex I: The ch...   45  \n",
       "2  a sentence of seven months, of which three mon...   35  \n",
       "3  payment of a fine of €1,500,=/ replacement det...   37  \n",
       "4  exonerates suspect/ [disadvantaged 3] , [disad...   44  "
      ]
     },
     "execution_count": 4,
     "metadata": {},
     "output_type": "execute_result"
    }
   ],
   "source": [
    "law_dataset.head()"
   ]
  },
  {
   "cell_type": "code",
   "execution_count": 5,
   "id": "f5490bad",
   "metadata": {},
   "outputs": [
    {
     "data": {
      "text/plain": [
       "1    11580\n",
       "0     3999\n",
       "Name: is_guilty, dtype: int64"
      ]
     },
     "execution_count": 5,
     "metadata": {},
     "output_type": "execute_result"
    }
   ],
   "source": [
    "law_dataset['is_guilty'].value_counts()"
   ]
  },
  {
   "cell_type": "code",
   "execution_count": 6,
   "id": "3386195c",
   "metadata": {},
   "outputs": [],
   "source": [
    "#remove unneccesary columns\n",
    "law_data_clean = law_dataset.drop(columns = ['id', 'urlshort', 'verdachte', 'geboren', 'beslissing', 'strafmaat', 'namenvandejuryleden', 'commasinjurors', 'verdachte_en', 'beslissing_en', 'strafmaat_en'])"
   ]
  },
  {
   "cell_type": "code",
   "execution_count": 7,
   "id": "8598d7f1",
   "metadata": {},
   "outputs": [],
   "source": [
    "#rename columns to English terms\n",
    "law_data_clean = law_data_clean.rename(columns = {\"aantalzaken\": \"amount_of_cases\", \"zittingsplaats\": \"courtcity\"})"
   ]
  },
  {
   "cell_type": "code",
   "execution_count": 8,
   "id": "0c3692da",
   "metadata": {},
   "outputs": [
    {
     "data": {
      "text/plain": [
       "courtcity          14961\n",
       "amount_of_cases    14961\n",
       "is_guilty          14961\n",
       "plural_court       14961\n",
       "jailsentence       14961\n",
       "age                14961\n",
       "dtype: int64"
      ]
     },
     "execution_count": 8,
     "metadata": {},
     "output_type": "execute_result"
    }
   ],
   "source": [
    "#remove rows with ages below 0 and above 100, since these are infeasible datapoints\n",
    "law_data_clean = law_data_clean[law_data_clean['age'].between(18,100)]\n",
    "law_data_clean.count()\n",
    "#15.579 - 14.961 = 618 rows dropped"
   ]
  },
  {
   "cell_type": "code",
   "execution_count": 9,
   "id": "73fdba91",
   "metadata": {},
   "outputs": [
    {
     "data": {
      "text/plain": [
       "count    14961.000000\n",
       "mean        41.817325\n",
       "std         14.890347\n",
       "min         18.000000\n",
       "25%         30.000000\n",
       "50%         40.000000\n",
       "75%         52.000000\n",
       "max         97.000000\n",
       "Name: age, dtype: float64"
      ]
     },
     "execution_count": 9,
     "metadata": {},
     "output_type": "execute_result"
    }
   ],
   "source": [
    "law_data_clean['age'].describe()"
   ]
  },
  {
   "cell_type": "code",
   "execution_count": 10,
   "id": "5752c6f0",
   "metadata": {},
   "outputs": [
    {
     "data": {
      "image/png": "[encoded data removed]",
      "text/plain": [
       "<Figure size 500x500 with 1 Axes>"
      ]
     },
     "metadata": {},
     "output_type": "display_data"
    }
   ],
   "source": [
    "#plot the age distribution in the dataset\n",
    "plot = sns.displot(law_data_clean, x=\"amount_of_cases\", binwidth=5)\n",
    "plot.fig.suptitle('Amount of cases distribution in the dataset before removing outliers')\n",
    "\n",
    "plot.savefig('C:/Users/20202300/OneDrive - TU Eindhoven/Documents/Eindhoven2/0HM270 Supercrunchers/Data assignment/amount_cases_distribution_before_outliers.png')"
   ]
  },
  {
   "cell_type": "code",
   "execution_count": 11,
   "id": "10474077",
   "metadata": {},
   "outputs": [
    {
     "name": "stdout",
     "output_type": "stream",
     "text": [
      "250\n",
      "0\n"
     ]
    }
   ],
   "source": [
    "#remove outliers from the amount_of_cases variable using z-scores\n",
    "law_data_clean['amount_of_cases'].describe()\n",
    "\n",
    "#calculate Q1 and Q3, to use to define boundaries\n",
    "Q1 = np.percentile(law_data_clean['amount_of_cases'], 25, method='midpoint')\n",
    "Q3 = np.percentile(law_data_clean['amount_of_cases'], 75, method='midpoint')\n",
    "IQR = Q3 - Q1\n",
    "\n",
    "low_bound = Q1 - 1.5*IQR\n",
    "up_bound = Q3 + 1.5*IQR\n",
    "\n",
    "#remove amount of cases < 0\n",
    "law_data_clean = law_data_clean[law_data_clean['amount_of_cases'].between(0,100)]\n",
    "law_data_clean.count()\n",
    "#15526 - 15524 = 2 cases dropped\n",
    "\n",
    "#assess which values of amount_of_cases exceed the outlier boundary\n",
    "outlier_upper = np.where(law_data_clean['amount_of_cases'] >= up_bound)[0]\n",
    "outlier_lower = np.where(law_data_clean['amount_of_cases'] <= low_bound)[0]\n",
    "\n",
    "#check which indices are not in the dataset\n",
    "missing = [i for i in outlier_upper if i not in law_data_clean.index]\n",
    "outlier_upper = outlier_upper[~np.isin(outlier_upper, missing)]\n",
    "\n",
    "# #see how many outliers will be removed\n",
    "print(len(outlier_upper))\n",
    "print(len(outlier_lower))"
   ]
  },
  {
   "cell_type": "code",
   "execution_count": 12,
   "id": "d7377ea3",
   "metadata": {},
   "outputs": [],
   "source": [
    "#removing outliers from the dataset (lower bound has no outliers)\n",
    "law_data_clean.drop(index=outlier_upper, inplace=True)"
   ]
  },
  {
   "cell_type": "code",
   "execution_count": 13,
   "id": "bc17cd29",
   "metadata": {},
   "outputs": [
    {
     "data": {
      "text/plain": [
       "count    14709.000000\n",
       "mean         1.592154\n",
       "std          2.177317\n",
       "min          0.000000\n",
       "25%          0.000000\n",
       "50%          0.000000\n",
       "75%          3.000000\n",
       "max         24.000000\n",
       "Name: amount_of_cases, dtype: float64"
      ]
     },
     "execution_count": 13,
     "metadata": {},
     "output_type": "execute_result"
    }
   ],
   "source": [
    "law_data_clean['amount_of_cases'].describe()"
   ]
  },
  {
   "cell_type": "code",
   "execution_count": 14,
   "id": "9ad28ff0",
   "metadata": {},
   "outputs": [
    {
     "data": {
      "text/html": [
       "<div>\n",
       "<style scoped>\n",
       "    .dataframe tbody tr th:only-of-type {\n",
       "        vertical-align: middle;\n",
       "    }\n",
       "\n",
       "    .dataframe tbody tr th {\n",
       "        vertical-align: top;\n",
       "    }\n",
       "\n",
       "    .dataframe thead th {\n",
       "        text-align: right;\n",
       "    }\n",
       "</style>\n",
       "<table border=\"1\" class=\"dataframe\">\n",
       "  <thead>\n",
       "    <tr style=\"text-align: right;\">\n",
       "      <th></th>\n",
       "      <th>amount_of_cases</th>\n",
       "      <th>is_guilty</th>\n",
       "      <th>plural_court</th>\n",
       "      <th>jailsentence</th>\n",
       "      <th>age</th>\n",
       "    </tr>\n",
       "  </thead>\n",
       "  <tbody>\n",
       "    <tr>\n",
       "      <th>count</th>\n",
       "      <td>11921.000000</td>\n",
       "      <td>11921.000000</td>\n",
       "      <td>11921.000000</td>\n",
       "      <td>11921.000000</td>\n",
       "      <td>11921.000000</td>\n",
       "    </tr>\n",
       "    <tr>\n",
       "      <th>mean</th>\n",
       "      <td>1.958561</td>\n",
       "      <td>0.818472</td>\n",
       "      <td>0.979532</td>\n",
       "      <td>0.824092</td>\n",
       "      <td>40.632078</td>\n",
       "    </tr>\n",
       "    <tr>\n",
       "      <th>std</th>\n",
       "      <td>2.261836</td>\n",
       "      <td>0.385472</td>\n",
       "      <td>0.141601</td>\n",
       "      <td>0.380758</td>\n",
       "      <td>14.141312</td>\n",
       "    </tr>\n",
       "    <tr>\n",
       "      <th>min</th>\n",
       "      <td>0.000000</td>\n",
       "      <td>0.000000</td>\n",
       "      <td>0.000000</td>\n",
       "      <td>0.000000</td>\n",
       "      <td>18.000000</td>\n",
       "    </tr>\n",
       "    <tr>\n",
       "      <th>25%</th>\n",
       "      <td>0.000000</td>\n",
       "      <td>1.000000</td>\n",
       "      <td>1.000000</td>\n",
       "      <td>1.000000</td>\n",
       "      <td>29.000000</td>\n",
       "    </tr>\n",
       "    <tr>\n",
       "      <th>50%</th>\n",
       "      <td>2.000000</td>\n",
       "      <td>1.000000</td>\n",
       "      <td>1.000000</td>\n",
       "      <td>1.000000</td>\n",
       "      <td>38.000000</td>\n",
       "    </tr>\n",
       "    <tr>\n",
       "      <th>75%</th>\n",
       "      <td>3.000000</td>\n",
       "      <td>1.000000</td>\n",
       "      <td>1.000000</td>\n",
       "      <td>1.000000</td>\n",
       "      <td>51.000000</td>\n",
       "    </tr>\n",
       "    <tr>\n",
       "      <th>max</th>\n",
       "      <td>24.000000</td>\n",
       "      <td>1.000000</td>\n",
       "      <td>1.000000</td>\n",
       "      <td>1.000000</td>\n",
       "      <td>96.000000</td>\n",
       "    </tr>\n",
       "  </tbody>\n",
       "</table>\n",
       "</div>"
      ],
      "text/plain": [
       "       amount_of_cases     is_guilty  plural_court  jailsentence           age\n",
       "count     11921.000000  11921.000000  11921.000000  11921.000000  11921.000000\n",
       "mean          1.958561      0.818472      0.979532      0.824092     40.632078\n",
       "std           2.261836      0.385472      0.141601      0.380758     14.141312\n",
       "min           0.000000      0.000000      0.000000      0.000000     18.000000\n",
       "25%           0.000000      1.000000      1.000000      1.000000     29.000000\n",
       "50%           2.000000      1.000000      1.000000      1.000000     38.000000\n",
       "75%           3.000000      1.000000      1.000000      1.000000     51.000000\n",
       "max          24.000000      1.000000      1.000000      1.000000     96.000000"
      ]
     },
     "execution_count": 14,
     "metadata": {},
     "output_type": "execute_result"
    }
   ],
   "source": [
    "law_data_clean['courtcity'].value_counts()\n",
    "\n",
    "#drop rows where courtcity is missing\n",
    "\n",
    "law_data_clean = law_data_clean[law_data_clean['courtcity'] != '.']\n",
    "law_data_clean = law_data_clean[law_data_clean['courtcity'] != 'de']\n",
    "law_data_clean = law_data_clean[law_data_clean['courtcity'] != 'te']\n",
    "law_data_clean = law_data_clean[law_data_clean['courtcity'] != 'Rechtbank']\n",
    "\n",
    "law_data_clean.describe()"
   ]
  },
  {
   "cell_type": "code",
   "execution_count": 15,
   "id": "e02eb9d2",
   "metadata": {},
   "outputs": [
    {
     "data": {
      "text/html": [
       "<div>\n",
       "<style scoped>\n",
       "    .dataframe tbody tr th:only-of-type {\n",
       "        vertical-align: middle;\n",
       "    }\n",
       "\n",
       "    .dataframe tbody tr th {\n",
       "        vertical-align: top;\n",
       "    }\n",
       "\n",
       "    .dataframe thead th {\n",
       "        text-align: right;\n",
       "    }\n",
       "</style>\n",
       "<table border=\"1\" class=\"dataframe\">\n",
       "  <thead>\n",
       "    <tr style=\"text-align: right;\">\n",
       "      <th></th>\n",
       "      <th>amount_of_cases</th>\n",
       "      <th>is_guilty</th>\n",
       "      <th>plural_court</th>\n",
       "      <th>jailsentence</th>\n",
       "      <th>age</th>\n",
       "      <th>courtcity_Amsterdam</th>\n",
       "      <th>courtcity_Arnhem</th>\n",
       "      <th>courtcity_Assen</th>\n",
       "      <th>courtcity_Breda</th>\n",
       "      <th>courtcity_Groningen</th>\n",
       "      <th>courtcity_Lelystad</th>\n",
       "      <th>courtcity_Maastricht</th>\n",
       "      <th>courtcity_Middelburg</th>\n",
       "      <th>courtcity_Roermond</th>\n",
       "      <th>courtcity_Rotterdam</th>\n",
       "      <th>courtcity_Schiphol</th>\n",
       "      <th>courtcity_Utrecht</th>\n",
       "      <th>courtcity_Zutphen</th>\n",
       "      <th>courtcity_Zwolle</th>\n",
       "    </tr>\n",
       "  </thead>\n",
       "  <tbody>\n",
       "    <tr>\n",
       "      <th>0</th>\n",
       "      <td>3</td>\n",
       "      <td>1</td>\n",
       "      <td>1</td>\n",
       "      <td>1</td>\n",
       "      <td>37</td>\n",
       "      <td>0</td>\n",
       "      <td>0</td>\n",
       "      <td>0</td>\n",
       "      <td>0</td>\n",
       "      <td>0</td>\n",
       "      <td>1</td>\n",
       "      <td>0</td>\n",
       "      <td>0</td>\n",
       "      <td>0</td>\n",
       "      <td>0</td>\n",
       "      <td>0</td>\n",
       "      <td>0</td>\n",
       "      <td>0</td>\n",
       "      <td>0</td>\n",
       "    </tr>\n",
       "    <tr>\n",
       "      <th>1</th>\n",
       "      <td>5</td>\n",
       "      <td>1</td>\n",
       "      <td>1</td>\n",
       "      <td>1</td>\n",
       "      <td>45</td>\n",
       "      <td>0</td>\n",
       "      <td>0</td>\n",
       "      <td>0</td>\n",
       "      <td>0</td>\n",
       "      <td>0</td>\n",
       "      <td>0</td>\n",
       "      <td>0</td>\n",
       "      <td>0</td>\n",
       "      <td>0</td>\n",
       "      <td>0</td>\n",
       "      <td>0</td>\n",
       "      <td>1</td>\n",
       "      <td>0</td>\n",
       "      <td>0</td>\n",
       "    </tr>\n",
       "    <tr>\n",
       "      <th>2</th>\n",
       "      <td>4</td>\n",
       "      <td>1</td>\n",
       "      <td>1</td>\n",
       "      <td>1</td>\n",
       "      <td>35</td>\n",
       "      <td>0</td>\n",
       "      <td>0</td>\n",
       "      <td>0</td>\n",
       "      <td>1</td>\n",
       "      <td>0</td>\n",
       "      <td>0</td>\n",
       "      <td>0</td>\n",
       "      <td>0</td>\n",
       "      <td>0</td>\n",
       "      <td>0</td>\n",
       "      <td>0</td>\n",
       "      <td>0</td>\n",
       "      <td>0</td>\n",
       "      <td>0</td>\n",
       "    </tr>\n",
       "    <tr>\n",
       "      <th>3</th>\n",
       "      <td>4</td>\n",
       "      <td>1</td>\n",
       "      <td>1</td>\n",
       "      <td>1</td>\n",
       "      <td>37</td>\n",
       "      <td>0</td>\n",
       "      <td>0</td>\n",
       "      <td>0</td>\n",
       "      <td>1</td>\n",
       "      <td>0</td>\n",
       "      <td>0</td>\n",
       "      <td>0</td>\n",
       "      <td>0</td>\n",
       "      <td>0</td>\n",
       "      <td>0</td>\n",
       "      <td>0</td>\n",
       "      <td>0</td>\n",
       "      <td>0</td>\n",
       "      <td>0</td>\n",
       "    </tr>\n",
       "    <tr>\n",
       "      <th>4</th>\n",
       "      <td>0</td>\n",
       "      <td>0</td>\n",
       "      <td>1</td>\n",
       "      <td>0</td>\n",
       "      <td>44</td>\n",
       "      <td>0</td>\n",
       "      <td>0</td>\n",
       "      <td>0</td>\n",
       "      <td>1</td>\n",
       "      <td>0</td>\n",
       "      <td>0</td>\n",
       "      <td>0</td>\n",
       "      <td>0</td>\n",
       "      <td>0</td>\n",
       "      <td>0</td>\n",
       "      <td>0</td>\n",
       "      <td>0</td>\n",
       "      <td>0</td>\n",
       "      <td>0</td>\n",
       "    </tr>\n",
       "  </tbody>\n",
       "</table>\n",
       "</div>"
      ],
      "text/plain": [
       "   amount_of_cases  is_guilty  plural_court  jailsentence  age  \\\n",
       "0                3          1             1             1   37   \n",
       "1                5          1             1             1   45   \n",
       "2                4          1             1             1   35   \n",
       "3                4          1             1             1   37   \n",
       "4                0          0             1             0   44   \n",
       "\n",
       "   courtcity_Amsterdam  courtcity_Arnhem  courtcity_Assen  courtcity_Breda  \\\n",
       "0                    0                 0                0                0   \n",
       "1                    0                 0                0                0   \n",
       "2                    0                 0                0                1   \n",
       "3                    0                 0                0                1   \n",
       "4                    0                 0                0                1   \n",
       "\n",
       "   courtcity_Groningen  courtcity_Lelystad  courtcity_Maastricht  \\\n",
       "0                    0                   1                     0   \n",
       "1                    0                   0                     0   \n",
       "2                    0                   0                     0   \n",
       "3                    0                   0                     0   \n",
       "4                    0                   0                     0   \n",
       "\n",
       "   courtcity_Middelburg  courtcity_Roermond  courtcity_Rotterdam  \\\n",
       "0                     0                   0                    0   \n",
       "1                     0                   0                    0   \n",
       "2                     0                   0                    0   \n",
       "3                     0                   0                    0   \n",
       "4                     0                   0                    0   \n",
       "\n",
       "   courtcity_Schiphol  courtcity_Utrecht  courtcity_Zutphen  courtcity_Zwolle  \n",
       "0                   0                  0                  0                 0  \n",
       "1                   0                  1                  0                 0  \n",
       "2                   0                  0                  0                 0  \n",
       "3                   0                  0                  0                 0  \n",
       "4                   0                  0                  0                 0  "
      ]
     },
     "execution_count": 15,
     "metadata": {},
     "output_type": "execute_result"
    }
   ],
   "source": [
    "#one-hot encoding courtcity\n",
    "law_data_clean_enc = pd.get_dummies(law_data_clean, columns=['courtcity'], drop_first=True)\n",
    "\n",
    "law_data_clean_enc.head()"
   ]
  },
  {
   "cell_type": "code",
   "execution_count": 16,
   "id": "09e44d9a",
   "metadata": {},
   "outputs": [
    {
     "data": {
      "text/plain": [
       "Breda         2182\n",
       "Zwolle        1868\n",
       "Utrecht       1786\n",
       "Almelo        1552\n",
       "Arnhem        1407\n",
       "Lelystad       901\n",
       "Zutphen        849\n",
       "Middelburg     689\n",
       "Maastricht     329\n",
       "Roermond       324\n",
       "Amsterdam       26\n",
       "Rotterdam        4\n",
       "Schiphol         2\n",
       "Assen            1\n",
       "Groningen        1\n",
       "Name: courtcity, dtype: int64"
      ]
     },
     "execution_count": 16,
     "metadata": {},
     "output_type": "execute_result"
    }
   ],
   "source": [
    "law_data_clean['courtcity'].value_counts()"
   ]
  },
  {
   "cell_type": "code",
   "execution_count": 17,
   "id": "0bd76e8b",
   "metadata": {},
   "outputs": [
    {
     "data": {
      "text/html": [
       "<div>\n",
       "<style scoped>\n",
       "    .dataframe tbody tr th:only-of-type {\n",
       "        vertical-align: middle;\n",
       "    }\n",
       "\n",
       "    .dataframe tbody tr th {\n",
       "        vertical-align: top;\n",
       "    }\n",
       "\n",
       "    .dataframe thead th {\n",
       "        text-align: right;\n",
       "    }\n",
       "</style>\n",
       "<table border=\"1\" class=\"dataframe\">\n",
       "  <thead>\n",
       "    <tr style=\"text-align: right;\">\n",
       "      <th></th>\n",
       "      <th>amount_of_cases</th>\n",
       "      <th>is_guilty</th>\n",
       "      <th>plural_court</th>\n",
       "      <th>jailsentence</th>\n",
       "      <th>age</th>\n",
       "      <th>courtcity_Amsterdam</th>\n",
       "      <th>courtcity_Arnhem</th>\n",
       "      <th>courtcity_Assen</th>\n",
       "      <th>courtcity_Breda</th>\n",
       "      <th>courtcity_Groningen</th>\n",
       "      <th>courtcity_Lelystad</th>\n",
       "      <th>courtcity_Maastricht</th>\n",
       "      <th>courtcity_Middelburg</th>\n",
       "      <th>courtcity_Roermond</th>\n",
       "      <th>courtcity_Rotterdam</th>\n",
       "      <th>courtcity_Schiphol</th>\n",
       "      <th>courtcity_Utrecht</th>\n",
       "      <th>courtcity_Zutphen</th>\n",
       "      <th>courtcity_Zwolle</th>\n",
       "    </tr>\n",
       "  </thead>\n",
       "  <tbody>\n",
       "    <tr>\n",
       "      <th>count</th>\n",
       "      <td>11921.000000</td>\n",
       "      <td>11921.000000</td>\n",
       "      <td>11921.000000</td>\n",
       "      <td>11921.000000</td>\n",
       "      <td>11921.000000</td>\n",
       "      <td>11921.000000</td>\n",
       "      <td>11921.000000</td>\n",
       "      <td>11921.000000</td>\n",
       "      <td>11921.000000</td>\n",
       "      <td>11921.000000</td>\n",
       "      <td>11921.000000</td>\n",
       "      <td>11921.000000</td>\n",
       "      <td>11921.000000</td>\n",
       "      <td>11921.000000</td>\n",
       "      <td>11921.000000</td>\n",
       "      <td>11921.000000</td>\n",
       "      <td>11921.00000</td>\n",
       "      <td>11921.000000</td>\n",
       "      <td>11921.000000</td>\n",
       "    </tr>\n",
       "    <tr>\n",
       "      <th>mean</th>\n",
       "      <td>1.958561</td>\n",
       "      <td>0.818472</td>\n",
       "      <td>0.979532</td>\n",
       "      <td>0.824092</td>\n",
       "      <td>40.632078</td>\n",
       "      <td>0.002181</td>\n",
       "      <td>0.118027</td>\n",
       "      <td>0.000084</td>\n",
       "      <td>0.183038</td>\n",
       "      <td>0.000084</td>\n",
       "      <td>0.075581</td>\n",
       "      <td>0.027598</td>\n",
       "      <td>0.057797</td>\n",
       "      <td>0.027179</td>\n",
       "      <td>0.000336</td>\n",
       "      <td>0.000168</td>\n",
       "      <td>0.14982</td>\n",
       "      <td>0.071219</td>\n",
       "      <td>0.156698</td>\n",
       "    </tr>\n",
       "    <tr>\n",
       "      <th>std</th>\n",
       "      <td>2.261836</td>\n",
       "      <td>0.385472</td>\n",
       "      <td>0.141601</td>\n",
       "      <td>0.380758</td>\n",
       "      <td>14.141312</td>\n",
       "      <td>0.046652</td>\n",
       "      <td>0.322654</td>\n",
       "      <td>0.009159</td>\n",
       "      <td>0.386714</td>\n",
       "      <td>0.009159</td>\n",
       "      <td>0.264337</td>\n",
       "      <td>0.163826</td>\n",
       "      <td>0.233369</td>\n",
       "      <td>0.162611</td>\n",
       "      <td>0.018316</td>\n",
       "      <td>0.012952</td>\n",
       "      <td>0.35691</td>\n",
       "      <td>0.257201</td>\n",
       "      <td>0.363531</td>\n",
       "    </tr>\n",
       "    <tr>\n",
       "      <th>min</th>\n",
       "      <td>0.000000</td>\n",
       "      <td>0.000000</td>\n",
       "      <td>0.000000</td>\n",
       "      <td>0.000000</td>\n",
       "      <td>18.000000</td>\n",
       "      <td>0.000000</td>\n",
       "      <td>0.000000</td>\n",
       "      <td>0.000000</td>\n",
       "      <td>0.000000</td>\n",
       "      <td>0.000000</td>\n",
       "      <td>0.000000</td>\n",
       "      <td>0.000000</td>\n",
       "      <td>0.000000</td>\n",
       "      <td>0.000000</td>\n",
       "      <td>0.000000</td>\n",
       "      <td>0.000000</td>\n",
       "      <td>0.00000</td>\n",
       "      <td>0.000000</td>\n",
       "      <td>0.000000</td>\n",
       "    </tr>\n",
       "    <tr>\n",
       "      <th>25%</th>\n",
       "      <td>0.000000</td>\n",
       "      <td>1.000000</td>\n",
       "      <td>1.000000</td>\n",
       "      <td>1.000000</td>\n",
       "      <td>29.000000</td>\n",
       "      <td>0.000000</td>\n",
       "      <td>0.000000</td>\n",
       "      <td>0.000000</td>\n",
       "      <td>0.000000</td>\n",
       "      <td>0.000000</td>\n",
       "      <td>0.000000</td>\n",
       "      <td>0.000000</td>\n",
       "      <td>0.000000</td>\n",
       "      <td>0.000000</td>\n",
       "      <td>0.000000</td>\n",
       "      <td>0.000000</td>\n",
       "      <td>0.00000</td>\n",
       "      <td>0.000000</td>\n",
       "      <td>0.000000</td>\n",
       "    </tr>\n",
       "    <tr>\n",
       "      <th>50%</th>\n",
       "      <td>2.000000</td>\n",
       "      <td>1.000000</td>\n",
       "      <td>1.000000</td>\n",
       "      <td>1.000000</td>\n",
       "      <td>38.000000</td>\n",
       "      <td>0.000000</td>\n",
       "      <td>0.000000</td>\n",
       "      <td>0.000000</td>\n",
       "      <td>0.000000</td>\n",
       "      <td>0.000000</td>\n",
       "      <td>0.000000</td>\n",
       "      <td>0.000000</td>\n",
       "      <td>0.000000</td>\n",
       "      <td>0.000000</td>\n",
       "      <td>0.000000</td>\n",
       "      <td>0.000000</td>\n",
       "      <td>0.00000</td>\n",
       "      <td>0.000000</td>\n",
       "      <td>0.000000</td>\n",
       "    </tr>\n",
       "    <tr>\n",
       "      <th>75%</th>\n",
       "      <td>3.000000</td>\n",
       "      <td>1.000000</td>\n",
       "      <td>1.000000</td>\n",
       "      <td>1.000000</td>\n",
       "      <td>51.000000</td>\n",
       "      <td>0.000000</td>\n",
       "      <td>0.000000</td>\n",
       "      <td>0.000000</td>\n",
       "      <td>0.000000</td>\n",
       "      <td>0.000000</td>\n",
       "      <td>0.000000</td>\n",
       "      <td>0.000000</td>\n",
       "      <td>0.000000</td>\n",
       "      <td>0.000000</td>\n",
       "      <td>0.000000</td>\n",
       "      <td>0.000000</td>\n",
       "      <td>0.00000</td>\n",
       "      <td>0.000000</td>\n",
       "      <td>0.000000</td>\n",
       "    </tr>\n",
       "    <tr>\n",
       "      <th>max</th>\n",
       "      <td>24.000000</td>\n",
       "      <td>1.000000</td>\n",
       "      <td>1.000000</td>\n",
       "      <td>1.000000</td>\n",
       "      <td>96.000000</td>\n",
       "      <td>1.000000</td>\n",
       "      <td>1.000000</td>\n",
       "      <td>1.000000</td>\n",
       "      <td>1.000000</td>\n",
       "      <td>1.000000</td>\n",
       "      <td>1.000000</td>\n",
       "      <td>1.000000</td>\n",
       "      <td>1.000000</td>\n",
       "      <td>1.000000</td>\n",
       "      <td>1.000000</td>\n",
       "      <td>1.000000</td>\n",
       "      <td>1.00000</td>\n",
       "      <td>1.000000</td>\n",
       "      <td>1.000000</td>\n",
       "    </tr>\n",
       "  </tbody>\n",
       "</table>\n",
       "</div>"
      ],
      "text/plain": [
       "       amount_of_cases     is_guilty  plural_court  jailsentence  \\\n",
       "count     11921.000000  11921.000000  11921.000000  11921.000000   \n",
       "mean          1.958561      0.818472      0.979532      0.824092   \n",
       "std           2.261836      0.385472      0.141601      0.380758   \n",
       "min           0.000000      0.000000      0.000000      0.000000   \n",
       "25%           0.000000      1.000000      1.000000      1.000000   \n",
       "50%           2.000000      1.000000      1.000000      1.000000   \n",
       "75%           3.000000      1.000000      1.000000      1.000000   \n",
       "max          24.000000      1.000000      1.000000      1.000000   \n",
       "\n",
       "                age  courtcity_Amsterdam  courtcity_Arnhem  courtcity_Assen  \\\n",
       "count  11921.000000         11921.000000      11921.000000     11921.000000   \n",
       "mean      40.632078             0.002181          0.118027         0.000084   \n",
       "std       14.141312             0.046652          0.322654         0.009159   \n",
       "min       18.000000             0.000000          0.000000         0.000000   \n",
       "25%       29.000000             0.000000          0.000000         0.000000   \n",
       "50%       38.000000             0.000000          0.000000         0.000000   \n",
       "75%       51.000000             0.000000          0.000000         0.000000   \n",
       "max       96.000000             1.000000          1.000000         1.000000   \n",
       "\n",
       "       courtcity_Breda  courtcity_Groningen  courtcity_Lelystad  \\\n",
       "count     11921.000000         11921.000000        11921.000000   \n",
       "mean          0.183038             0.000084            0.075581   \n",
       "std           0.386714             0.009159            0.264337   \n",
       "min           0.000000             0.000000            0.000000   \n",
       "25%           0.000000             0.000000            0.000000   \n",
       "50%           0.000000             0.000000            0.000000   \n",
       "75%           0.000000             0.000000            0.000000   \n",
       "max           1.000000             1.000000            1.000000   \n",
       "\n",
       "       courtcity_Maastricht  courtcity_Middelburg  courtcity_Roermond  \\\n",
       "count          11921.000000          11921.000000        11921.000000   \n",
       "mean               0.027598              0.057797            0.027179   \n",
       "std                0.163826              0.233369            0.162611   \n",
       "min                0.000000              0.000000            0.000000   \n",
       "25%                0.000000              0.000000            0.000000   \n",
       "50%                0.000000              0.000000            0.000000   \n",
       "75%                0.000000              0.000000            0.000000   \n",
       "max                1.000000              1.000000            1.000000   \n",
       "\n",
       "       courtcity_Rotterdam  courtcity_Schiphol  courtcity_Utrecht  \\\n",
       "count         11921.000000        11921.000000        11921.00000   \n",
       "mean              0.000336            0.000168            0.14982   \n",
       "std               0.018316            0.012952            0.35691   \n",
       "min               0.000000            0.000000            0.00000   \n",
       "25%               0.000000            0.000000            0.00000   \n",
       "50%               0.000000            0.000000            0.00000   \n",
       "75%               0.000000            0.000000            0.00000   \n",
       "max               1.000000            1.000000            1.00000   \n",
       "\n",
       "       courtcity_Zutphen  courtcity_Zwolle  \n",
       "count       11921.000000      11921.000000  \n",
       "mean            0.071219          0.156698  \n",
       "std             0.257201          0.363531  \n",
       "min             0.000000          0.000000  \n",
       "25%             0.000000          0.000000  \n",
       "50%             0.000000          0.000000  \n",
       "75%             0.000000          0.000000  \n",
       "max             1.000000          1.000000  "
      ]
     },
     "execution_count": 17,
     "metadata": {},
     "output_type": "execute_result"
    }
   ],
   "source": [
    "law_data_clean_enc.describe()"
   ]
  },
  {
   "cell_type": "code",
   "execution_count": 18,
   "id": "c80ec99a",
   "metadata": {},
   "outputs": [
    {
     "data": {
      "image/png": "[encoded data removed]",
      "text/plain": [
       "<Figure size 500x500 with 1 Axes>"
      ]
     },
     "metadata": {},
     "output_type": "display_data"
    }
   ],
   "source": [
    "#plot the age distribution in the dataset\n",
    "plot = sns.displot(law_data_clean_enc, x=\"age\", binwidth=3)\n",
    "plot.fig.suptitle('Age distribution in the dataset')\n",
    "\n",
    "plot.savefig('C:/Users/20202300/OneDrive - TU Eindhoven/Documents/Eindhoven2/0HM270 Supercrunchers/Data assignment/age_distribution.png')"
   ]
  },
  {
   "cell_type": "code",
   "execution_count": 19,
   "id": "0a5e7ae8",
   "metadata": {},
   "outputs": [
    {
     "data": {
      "image/png": "[encoded data removed]",
      "text/plain": [
       "<Figure size 500x500 with 1 Axes>"
      ]
     },
     "metadata": {},
     "output_type": "display_data"
    }
   ],
   "source": [
    "#plot the age distribution in the dataset\n",
    "plot = sns.displot(law_data_clean_enc, x=\"amount_of_cases\", binwidth=2)\n",
    "plot.fig.suptitle('Amount of cases distribution in the dataset')\n",
    "\n",
    "plot.savefig('C:/Users/20202300/OneDrive - TU Eindhoven/Documents/Eindhoven2/0HM270 Supercrunchers/Data assignment/amount_cases_distribution.png')"
   ]
  },
  {
   "cell_type": "code",
   "execution_count": 20,
   "id": "32ebaf2c",
   "metadata": {},
   "outputs": [
    {
     "data": {
      "text/plain": [
       "1    9824\n",
       "0    2097\n",
       "Name: jailsentence, dtype: int64"
      ]
     },
     "execution_count": 20,
     "metadata": {},
     "output_type": "execute_result"
    }
   ],
   "source": [
    "#see how many jailsentences and not going to jail are in the dataset\n",
    "law_data_clean_enc['jailsentence'].value_counts()"
   ]
  },
  {
   "cell_type": "code",
   "execution_count": 21,
   "id": "8fd77474",
   "metadata": {},
   "outputs": [
    {
     "data": {
      "text/plain": [
       "1    11677\n",
       "0      244\n",
       "Name: plural_court, dtype: int64"
      ]
     },
     "execution_count": 21,
     "metadata": {},
     "output_type": "execute_result"
    }
   ],
   "source": [
    "#see how many plural and singular courts are in the dataset\n",
    "law_data_clean_enc['plural_court'].value_counts()"
   ]
  },
  {
   "cell_type": "code",
   "execution_count": 22,
   "id": "d6bc6dd4",
   "metadata": {},
   "outputs": [
    {
     "name": "stdout",
     "output_type": "stream",
     "text": [
      "jailsentence     0     1\n",
      "is_guilty               \n",
      "0             1228   936\n",
      "1              869  8888\n"
     ]
    }
   ],
   "source": [
    "crosstable = pd.crosstab(law_data_clean_enc['is_guilty'], law_data_clean_enc['jailsentence'])\n",
    "\n",
    "print(crosstable)\n"
   ]
  },
  {
   "cell_type": "code",
   "execution_count": 23,
   "id": "f4521ec4",
   "metadata": {},
   "outputs": [],
   "source": [
    "law_data_clean_enc = law_data_clean_enc[~((law_data_clean_enc['jailsentence'] == 1) & (law_data_clean_enc['is_guilty'] == 0))]"
   ]
  },
  {
   "cell_type": "code",
   "execution_count": 35,
   "id": "fc91f0c7",
   "metadata": {},
   "outputs": [
    {
     "data": {
      "text/plain": [
       "1    8888\n",
       "0    2097\n",
       "Name: jailsentence, dtype: int64"
      ]
     },
     "execution_count": 35,
     "metadata": {},
     "output_type": "execute_result"
    }
   ],
   "source": [
    "law_data_clean_enc['jailsentence'].value_counts()"
   ]
  },
  {
   "cell_type": "code",
   "execution_count": 25,
   "id": "2cbb2039",
   "metadata": {},
   "outputs": [],
   "source": [
    "predictor_var = 'jailsentence'\n",
    "\n",
    "#create different variables for predictor and predicted variables\n",
    "X = law_data_clean_enc.drop(columns=[predictor_var])\n",
    "y = law_data_clean_enc[predictor_var]"
   ]
  },
  {
   "cell_type": "code",
   "execution_count": 26,
   "id": "5aa31f91",
   "metadata": {},
   "outputs": [],
   "source": [
    "#split data in training and testing set\n",
    "X_train, X_test, y_train, y_test = train_test_split(X, y, test_size=0.3, random_state=42)\n"
   ]
  },
  {
   "cell_type": "code",
   "execution_count": 27,
   "id": "a4cc9fb0",
   "metadata": {},
   "outputs": [
    {
     "name": "stdout",
     "output_type": "stream",
     "text": [
      "Accuracy: 0.9223300970873787\n",
      "\n",
      "Classification Report:\n",
      "              precision    recall  f1-score   support\n",
      "\n",
      "           0       1.00      0.57      0.73       595\n",
      "           1       0.91      1.00      0.95      2701\n",
      "\n",
      "    accuracy                           0.92      3296\n",
      "   macro avg       0.96      0.78      0.84      3296\n",
      "weighted avg       0.93      0.92      0.91      3296\n",
      "\n"
     ]
    }
   ],
   "source": [
    "#Train and test a logistic regression model\n",
    "model_LR = LogisticRegression(max_iter=1000)\n",
    "model_LR.fit(X_train, y_train)\n",
    "\n",
    "# Predict on test set\n",
    "y_pred_LR = model_LR.predict(X_test)\n",
    "\n",
    "# Evaluation\n",
    "print(\"Accuracy:\", accuracy_score(y_test, y_pred_LR))\n",
    "print(\"\\nClassification Report:\")\n",
    "print(classification_report(y_test, y_pred_LR))"
   ]
  },
  {
   "cell_type": "code",
   "execution_count": 28,
   "id": "14d74cc2",
   "metadata": {},
   "outputs": [
    {
     "name": "stdout",
     "output_type": "stream",
     "text": [
      "Accuracy: 0.8995752427184466\n",
      "\n",
      "Classification Report:\n",
      "              precision    recall  f1-score   support\n",
      "\n",
      "           0       0.77      0.63      0.69       595\n",
      "           1       0.92      0.96      0.94      2701\n",
      "\n",
      "    accuracy                           0.90      3296\n",
      "   macro avg       0.85      0.79      0.82      3296\n",
      "weighted avg       0.89      0.90      0.90      3296\n",
      "\n"
     ]
    }
   ],
   "source": [
    "#train and test a decision tree model\n",
    "model_DT = DecisionTreeClassifier(random_state=42)\n",
    "model_DT.fit(X_train, y_train)\n",
    "\n",
    "# Predict on test set\n",
    "y_pred_DT = model_DT.predict(X_test)\n",
    "\n",
    "# Evaluation\n",
    "print(\"Accuracy:\", accuracy_score(y_test, y_pred_DT))\n",
    "print(\"\\nClassification Report:\")\n",
    "print(classification_report(y_test, y_pred_DT))"
   ]
  },
  {
   "cell_type": "code",
   "execution_count": 29,
   "id": "8f9c91f4",
   "metadata": {},
   "outputs": [
    {
     "name": "stdout",
     "output_type": "stream",
     "text": [
      "Accuracy: 0.9180825242718447\n",
      "\n",
      "Classification Report:\n",
      "              precision    recall  f1-score   support\n",
      "\n",
      "           0       0.88      0.63      0.74       595\n",
      "           1       0.92      0.98      0.95      2701\n",
      "\n",
      "    accuracy                           0.92      3296\n",
      "   macro avg       0.90      0.81      0.84      3296\n",
      "weighted avg       0.92      0.92      0.91      3296\n",
      "\n"
     ]
    }
   ],
   "source": [
    "#train and test a random forest algorithm\n",
    "model_RF = RandomForestClassifier(n_estimators=100, random_state=42)\n",
    "model_RF.fit(X_train, y_train)\n",
    "\n",
    "# Predict on test data\n",
    "y_pred_RF = model_RF.predict(X_test)\n",
    "\n",
    "# Evaluation metrics\n",
    "print(\"Accuracy:\", accuracy_score(y_test, y_pred_RF))\n",
    "print(\"\\nClassification Report:\")\n",
    "print(classification_report(y_test, y_pred_RF))\n"
   ]
  },
  {
   "cell_type": "code",
   "execution_count": 30,
   "id": "ba44c645",
   "metadata": {},
   "outputs": [
    {
     "data": {
      "image/png": "[encoded data removed]",
      "text/plain": [
       "<Figure size 640x480 with 1 Axes>"
      ]
     },
     "metadata": {},
     "output_type": "display_data"
    },
    {
     "data": {
      "text/plain": [
       "<Figure size 640x480 with 0 Axes>"
      ]
     },
     "metadata": {},
     "output_type": "display_data"
    }
   ],
   "source": [
    "#create ROC curve for Logistic Regression model\n",
    "fpr, tpr, _ = roc_curve(y_test, y_pred_LR)\n",
    "roc_auc = auc(fpr, tpr)\n",
    "\n",
    "plt.figure()\n",
    "plt.plot(fpr, tpr, label=f\"AUC = {roc_auc:.2f}\")\n",
    "plt.plot([0, 1], [0, 1], 'k--')\n",
    "plt.xlabel(\"False Positive Rate\")\n",
    "plt.ylabel(\"True Positive Rate\")\n",
    "plt.title(\"ROC Curve Logistic Regression\")\n",
    "plt.legend()\n",
    "plt.show()\n",
    "plt.savefig('C:/Users/20202300/OneDrive - TU Eindhoven/Documents/Eindhoven2/0HM270 Supercrunchers/Data assignment/ROC_Log_reg.png')"
   ]
  },
  {
   "cell_type": "code",
   "execution_count": 31,
   "id": "33bc9199",
   "metadata": {},
   "outputs": [
    {
     "data": {
      "image/png": "[encoded data removed]",
      "text/plain": [
       "<Figure size 640x480 with 1 Axes>"
      ]
     },
     "metadata": {},
     "output_type": "display_data"
    },
    {
     "data": {
      "text/plain": [
       "<Figure size 640x480 with 0 Axes>"
      ]
     },
     "metadata": {},
     "output_type": "display_data"
    }
   ],
   "source": [
    "fpr_DT, tpr_DT, _ = roc_curve(y_test, y_pred_DT)\n",
    "roc_auc = auc(fpr_DT, tpr_DT)\n",
    "\n",
    "plt.figure()\n",
    "plt.plot(fpr_DT, tpr_DT, label=f\"AUC = {roc_auc:.2f}\")\n",
    "plt.plot([0, 1], [0, 1], 'k--')\n",
    "plt.xlabel(\"False Positive Rate\")\n",
    "plt.ylabel(\"True Positive Rate\")\n",
    "plt.title(\"ROC Curve Decision Tree\")\n",
    "plt.legend()\n",
    "plt.show()\n",
    "plt.savefig('C:/Users/20202300/OneDrive - TU Eindhoven/Documents/Eindhoven2/0HM270 Supercrunchers/Data assignment/ROC_dec_tree.png')"
   ]
  },
  {
   "cell_type": "code",
   "execution_count": 32,
   "id": "16b67493",
   "metadata": {},
   "outputs": [
    {
     "data": {
      "image/png": "[encoded data removed]",
      "text/plain": [
       "<Figure size 640x480 with 1 Axes>"
      ]
     },
     "metadata": {},
     "output_type": "display_data"
    },
    {
     "data": {
      "text/plain": [
       "<Figure size 640x480 with 0 Axes>"
      ]
     },
     "metadata": {},
     "output_type": "display_data"
    }
   ],
   "source": [
    "fpr_RF, tpr_RF, _ = roc_curve(y_test, y_pred_RF)\n",
    "roc_auc = auc(fpr_RF, tpr_RF)\n",
    "\n",
    "plt.figure()\n",
    "plt.plot(fpr_RF, tpr_RF, label=f\"AUC = {roc_auc:.2f}\")\n",
    "plt.plot([0, 1], [0, 1], 'k--')\n",
    "plt.xlabel(\"False Positive Rate\")\n",
    "plt.ylabel(\"True Positive Rate\")\n",
    "plt.title(\"ROC Curve Random Forest\")\n",
    "plt.legend()\n",
    "plt.show()\n",
    "plt.savefig('C:/Users/20202300/OneDrive - TU Eindhoven/Documents/Eindhoven2/0HM270 Supercrunchers/Data assignment/ROC_Random_forest.png')"
   ]
  }
 ],
 "metadata": {
  "kernelspec": {
   "display_name": "Python 3 (ipykernel)",
   "language": "python",
   "name": "python3"
  },
  "language_info": {
   "codemirror_mode": {
    "name": "ipython",
    "version": 3
   },
   "file_extension": ".py",
   "mimetype": "text/x-python",
   "name": "python",
   "nbconvert_exporter": "python",
   "pygments_lexer": "ipython3",
   "version": "3.10.9"
  }
 },
 "nbformat": 4,
 "nbformat_minor": 5
}
